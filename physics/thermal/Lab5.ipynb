{
 "cells": [
  {
   "cell_type": "code",
   "execution_count": 1,
   "metadata": {
    "collapsed": false
   },
   "outputs": [],
   "source": [
    "import numpy as np\n",
    "import pandas as pd\n",
    "import matplotlib.pyplot as plt\n",
    "from uncertainties import ufloat\n",
    "%matplotlib inline"
   ]
  },
  {
   "cell_type": "markdown",
   "metadata": {},
   "source": [
    "a. From a to b When the mass is added the syringe goes down a little (Adiabate)\n",
    "b. From b to c when the vial is in hot water the syringe does work and moves the mass upwards (isothermal)\n",
    "c. Syringe moves up a little (adiabatic)\n",
    "d. Syringe falls back down (isothermal)\n",
    "e. V$_{a}$ = V$_{a'}$\n"
   ]
  },
  {
   "cell_type": "code",
   "execution_count": 2,
   "metadata": {
    "collapsed": true
   },
   "outputs": [],
   "source": [
    "Tube_width = 0.6 #cm\n",
    "Tube_tp_length = 45 #cm\n",
    "Vial_width = 2.9 #cm\n",
    "Vial_height = 5 #cm\n",
    "Tube_ts_length = 28.5 #cm "
   ]
  },
  {
   "cell_type": "code",
   "execution_count": 3,
   "metadata": {
    "collapsed": true
   },
   "outputs": [],
   "source": [
    "Vial_vol = np.pi*((Vial_width/2)**2)*Vial_height\n",
    "ts_vol = np.pi*((Tube_width/2)**2)*Tube_ts_length\n",
    "tp_vol = np.pi*((Tube_width/2)**2)*Tube_tp_length"
   ]
  },
  {
   "cell_type": "code",
   "execution_count": 4,
   "metadata": {
    "collapsed": false
   },
   "outputs": [
    {
     "data": {
      "text/plain": [
       "53.80762817435918"
      ]
     },
     "execution_count": 4,
     "metadata": {},
     "output_type": "execute_result"
    }
   ],
   "source": [
    "Vial_vol+ts_vol+tp_vol"
   ]
  },
  {
   "cell_type": "code",
   "execution_count": 5,
   "metadata": {
    "collapsed": false
   },
   "outputs": [
    {
     "data": {
      "text/plain": [
       "33.0259927708627"
      ]
     },
     "execution_count": 5,
     "metadata": {},
     "output_type": "execute_result"
    }
   ],
   "source": [
    "Vial_vol"
   ]
  },
  {
   "cell_type": "code",
   "execution_count": 6,
   "metadata": {
    "collapsed": false
   },
   "outputs": [
    {
     "data": {
      "text/plain": [
       "1.6588236150649167"
      ]
     },
     "execution_count": 6,
     "metadata": {},
     "output_type": "execute_result"
    }
   ],
   "source": [
    "(5.4-2.6)/(np.pi*(1.466/2)**2)"
   ]
  },
  {
   "cell_type": "code",
   "execution_count": 7,
   "metadata": {
    "collapsed": true
   },
   "outputs": [],
   "source": [
    "Pa = ufloat(100.52*1e3, 0.01*1e3) #kPa\n",
    "Pb = ufloat(101.38*1e3, 0.01*1e3) #kPa\n",
    "Pc = ufloat(103.27*1e3, 0.01*1e3) #kPa\n",
    "Pd = ufloat(101.35*1e3, 0.01*1e3) #kPa\n",
    "Paa = ufloat(99.96*1e3, 0.01*1e3)"
   ]
  },
  {
   "cell_type": "code",
   "execution_count": 8,
   "metadata": {
    "collapsed": true
   },
   "outputs": [],
   "source": [
    "Ta = ufloat(5.2, 0.1) +273.15 #K\n",
    "Tb = ufloat(5.1, 0.1)+273.15 #K\n",
    "Tc = ufloat(43.3, 0.1)+273.15 #K\n",
    "Td = ufloat(43.4, 0.1)+273.15 #K\n",
    "Taa = ufloat(5, 0.1)+273.15 #K"
   ]
  },
  {
   "cell_type": "code",
   "execution_count": 9,
   "metadata": {
    "collapsed": true
   },
   "outputs": [],
   "source": [
    "Va = ufloat(1.8/1e6, 0.1/1e6) #cm^3\n",
    "Vb = ufloat(1.4/1e6, 0.1/1e6) #cm^3\n",
    "Vc = ufloat(4.3/1e6, 0.1/1e6) #cm^3\n",
    "Vd = ufloat(5.0/1e6, 0.1/1e6) #cm^3\n",
    "Vaa = ufloat(2.0/1e6, 0.1/1e6) #cm^3"
   ]
  },
  {
   "cell_type": "code",
   "execution_count": 10,
   "metadata": {
    "collapsed": true
   },
   "outputs": [],
   "source": [
    "def Work(ps, pe, vs, ve):\n",
    "    return -((ps+pe)/2)*(ve-vs)"
   ]
  },
  {
   "cell_type": "code",
   "execution_count": 11,
   "metadata": {
    "collapsed": true
   },
   "outputs": [],
   "source": [
    "WorkAB = Work(Pa, Pb, Va, Vb)\n",
    "WorkBC = Work(Pb, Pc, Vb, Vc)\n",
    "WorkCD = Work(Pc, Pd, Vc, Vd)\n",
    "WorkDA = Work(Pd, Paa, Vd, Vaa)"
   ]
  },
  {
   "cell_type": "code",
   "execution_count": 12,
   "metadata": {
    "collapsed": false
   },
   "outputs": [
    {
     "data": {
      "text/plain": [
       "0.04038000000000002+/-0.014276486192337387"
      ]
     },
     "execution_count": 12,
     "metadata": {},
     "output_type": "execute_result"
    }
   ],
   "source": [
    "WorkAB"
   ]
  },
  {
   "cell_type": "code",
   "execution_count": 13,
   "metadata": {
    "collapsed": false
   },
   "outputs": [
    {
     "data": {
      "text/plain": [
       "-0.2967424999999999+/-0.014470954806093481"
      ]
     },
     "execution_count": 13,
     "metadata": {},
     "output_type": "execute_result"
    }
   ],
   "source": [
    "WorkBC"
   ]
  },
  {
   "cell_type": "code",
   "execution_count": 14,
   "metadata": {
    "collapsed": false
   },
   "outputs": [
    {
     "data": {
      "text/plain": [
       "-0.0716170000000001+/-0.014468819803287345"
      ]
     },
     "execution_count": 14,
     "metadata": {},
     "output_type": "execute_result"
    }
   ],
   "source": [
    "WorkCD"
   ]
  },
  {
   "cell_type": "code",
   "execution_count": 15,
   "metadata": {
    "collapsed": false
   },
   "outputs": [
    {
     "data": {
      "text/plain": [
       "0.30196500000000004+/-0.014234782418428462"
      ]
     },
     "execution_count": 15,
     "metadata": {},
     "output_type": "execute_result"
    }
   ],
   "source": [
    "WorkDA"
   ]
  },
  {
   "cell_type": "code",
   "execution_count": 16,
   "metadata": {
    "collapsed": true
   },
   "outputs": [],
   "source": [
    "sW = sum([WorkAB, WorkBC, WorkCD, WorkDA])"
   ]
  },
  {
   "cell_type": "code",
   "execution_count": 17,
   "metadata": {
    "collapsed": false
   },
   "outputs": [
    {
     "data": {
      "text/plain": [
       "-8.67149999999998+/-4.752431605680051"
      ]
     },
     "execution_count": 17,
     "metadata": {},
     "output_type": "execute_result"
    }
   ],
   "source": [
    "sW/0.003"
   ]
  },
  {
   "cell_type": "code",
   "execution_count": 18,
   "metadata": {
    "collapsed": true
   },
   "outputs": [],
   "source": [
    "dU = (3/2)*(Pc*Vc-Pb*Vb)"
   ]
  },
  {
   "cell_type": "code",
   "execution_count": 19,
   "metadata": {
    "collapsed": false
   },
   "outputs": [
    {
     "name": "stdout",
     "output_type": "stream",
     "text": [
      "0.450+/-0.022\n"
     ]
    }
   ],
   "source": [
    "Qh = dU-0.003\n",
    "print(Qh)"
   ]
  },
  {
   "cell_type": "code",
   "execution_count": 20,
   "metadata": {
    "collapsed": true
   },
   "outputs": [],
   "source": [
    "dU = (3/2)*(Paa*Vaa-Pd*Vd)"
   ]
  },
  {
   "cell_type": "code",
   "execution_count": 23,
   "metadata": {
    "collapsed": false
   },
   "outputs": [
    {
     "name": "stdout",
     "output_type": "stream",
     "text": [
      "-0.463+/-0.021\n"
     ]
    }
   ],
   "source": [
    "Qc = dU-0.003\n",
    "print(Qc)"
   ]
  },
  {
   "cell_type": "code",
   "execution_count": 22,
   "metadata": {
    "collapsed": false
   },
   "outputs": [
    {
     "data": {
      "text/plain": [
       "-0.028990867260411717+/-0.06863943134872773"
      ]
     },
     "execution_count": 22,
     "metadata": {},
     "output_type": "execute_result"
    }
   ],
   "source": [
    "(abs(Qh)-abs(Qc))/abs(Qh)"
   ]
  },
  {
   "cell_type": "code",
   "execution_count": null,
   "metadata": {
    "collapsed": true
   },
   "outputs": [],
   "source": []
  }
 ],
 "metadata": {
  "kernelspec": {
   "display_name": "Python 3",
   "language": "python",
   "name": "python3"
  },
  "language_info": {
   "codemirror_mode": {
    "name": "ipython",
    "version": 3
   },
   "file_extension": ".py",
   "mimetype": "text/x-python",
   "name": "python",
   "nbconvert_exporter": "python",
   "pygments_lexer": "ipython3",
   "version": "3.6.0"
  }
 },
 "nbformat": 4,
 "nbformat_minor": 2
}
