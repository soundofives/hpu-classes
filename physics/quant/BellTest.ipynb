{
 "cells": [
  {
   "cell_type": "code",
   "execution_count": 7,
   "metadata": {},
   "outputs": [],
   "source": [
    "from pylab import *\n",
    "import sympy as sym\n",
    "from sympy.physics.quantum import Commutator, Dagger, Operator\n",
    "from sympy.physics.quantum import Bra, Ket, InnerProduct\n",
    "import numpy as np\n",
    "init_printing(use_unicode=True)"
   ]
  },
  {
   "cell_type": "code",
   "execution_count": 8,
   "metadata": {},
   "outputs": [],
   "source": [
    "def spinx(s):\n",
    "\n",
    "    n = int(2.0*s+1)\n",
    "    sx = np.matrix(zeros((n,n)))\n",
    "    for a in range(0,n):\n",
    "        for b in range(0,n):\n",
    "            if (a==b+1):\n",
    "                sx[a,b] = sx[a,b] + 0.5*sqrt((s+1)*(a+b+1)-(a+1)*(b+1))\n",
    "            elif (a==b-1):\n",
    "                sx[a,b] = sx[a,b] + 0.5*sqrt((s+1)*(a+b+1)-(a+1)*(b+1))\n",
    "                \n",
    "    return sx\n",
    "\n",
    "\n",
    "def spiny(s):\n",
    "    n = int(2.0*s+1)\n",
    "    sy = np.matrix(zeros((n,n),dtype='complex'))\n",
    "\n",
    "    for a in range(0,n):\n",
    "        for b in range(0,n):\n",
    "            if (a==b+1):\n",
    "                sy[a,b] = sy[a,b] + 0.5j*sqrt((s+1)*(a+b+1)-(a+1)*(b+1))\n",
    "            elif (a==b-1):\n",
    "                sy[a,b] = sy[a,b] - 0.5j*sqrt((s+1)*(a+b+1)-(a+1)*(b+1))\n",
    "                \n",
    "    return sy\n",
    "    \n",
    "def spinz(s):\n",
    "    \n",
    "    n = int(2.0*s+1)\n",
    "    sz = np.matrix(zeros((n,n)))\n",
    "\n",
    "    for a in range(0,n):\n",
    "        for b in range(0,n):\n",
    "    \n",
    "            if (a==b):\n",
    "                sz[a,b] = (s+1-b-1)\n",
    "                \n",
    "    return sz"
   ]
  },
  {
   "cell_type": "code",
   "execution_count": 20,
   "metadata": {},
   "outputs": [],
   "source": [
    "s = 0.5\n",
    "Sx = spinx(s)\n",
    "Sy = spiny(s)\n",
    "Sz = spinz(s)"
   ]
  },
  {
   "cell_type": "code",
   "execution_count": 50,
   "metadata": {},
   "outputs": [
    {
     "name": "stdout",
     "output_type": "stream",
     "text": [
      "[[0 1 0]] [[ 0.8660254 -0.5        0.       ]] [[ 0.8660254 -0.5        0.       ]] 1.0 1.0 1.0\n"
     ]
    }
   ],
   "source": [
    "ahat = np.matrix([0,1,0])\n",
    "bhat = np.matrix([np.cos(np.pi/6),np.sin(-np.pi/6),0])\n",
    "chat = np.matrix([np.cos(-np.pi/6),np.sin(-np.pi/6),0])\n",
    "print(ahat,bhat,chat,norm(ahat),norm(bhat),norm(chat))"
   ]
  },
  {
   "cell_type": "code",
   "execution_count": 53,
   "metadata": {},
   "outputs": [],
   "source": [
    "Nm = 1000000 #number of measurements\n",
    "Na = 3 #number of axes\n",
    "\n",
    "thet = linspace(0,(Na-1.0)*2.0*pi/Na,Na) #array of three values of theta\n",
    "phi = zeros(3) #set phi = 0 for all three axes\n",
    "\n",
    "#singlet in z-basis\n",
    "psi0 = (1.0/sqrt(2.0))*np.matrix([0,1.0,-1.0,0])"
   ]
  },
  {
   "cell_type": "code",
   "execution_count": 3,
   "metadata": {},
   "outputs": [],
   "source": [
    "#single spin operators\n",
    "Ss = zeros((2,2,Na),dtype='complex')\n",
    "\n",
    "for i in range(0,Na):\n",
    "    Ss[:,:,i] = 0.5*matrix([[cos(thet[i]),sin(thet[i])*exp(-1j*phi[i])],[sin(thet[i])*exp(1j*phi[i]),-cos(thet[i])]])\n",
    "    \n",
    "#two-spin operators\n",
    "Sab = zeros((2**2,2**2,Na**2),dtype='complex')\n",
    "Vab = zeros((2**2,2**2,Na**2),dtype='complex') #eigenvectors\n",
    "Eab = zeros((2**2,Na**2),dtype='complex')      #eigenvalues\n",
    "\n",
    "for i in range(0,Na):\n",
    "    for j in range(0,Na):\n",
    "        Sab[:,:,i*Na+j] = kron(Ss[:,:,i],Ss[:,:,j])\n",
    "        Eab[:,i*Na+j],Vab[:,:,i*Na+j] = eigh(Sab[:,:,i*Na+j])"
   ]
  },
  {
   "cell_type": "code",
   "execution_count": 4,
   "metadata": {},
   "outputs": [],
   "source": [
    "#MEASUREMENT FUNCTION\n",
    "\n",
    "def doublemeasurement(Na,psi0,Vab,Eab):\n",
    "    #select pair of axes at random\n",
    "    m = randint(0,Na**2)\n",
    "\n",
    "    #coefficients of psi in measurement basis\n",
    "    psi = zeros(2**2,dtype='complex')\n",
    "\n",
    "    for i in range(0,2**2):\n",
    "        psi[i] = dot(conj(Vab[:,i,m]),psi0)\n",
    "\n",
    "    r = rand()\n",
    "    csum = abs(psi[0])**2\n",
    "    \n",
    "    n = 0\n",
    "    while(r>csum):\n",
    "        n = n + 1\n",
    "        csum = csum + abs(psi[n])**2\n",
    "\n",
    "    #MEASURED STATE is indexed by n;\n",
    "    #returns sign of the product (+ -> same, - -> different)\n",
    "    return sign(Eab[n,m])"
   ]
  },
  {
   "cell_type": "code",
   "execution_count": 5,
   "metadata": {},
   "outputs": [
    {
     "name": "stdout",
     "output_type": "stream",
     "text": [
      "The probability of same measurement is 0.500589\n",
      "The probability of different measurement is 0.499411\n",
      "Bell inequality VIOLATED!\n"
     ]
    }
   ],
   "source": [
    "#counters\n",
    "Nsame = 0\n",
    "Ndiff = 0\n",
    "\n",
    "#repeat measurement Nm times\n",
    "for i in range(0,Nm):\n",
    "    #if\n",
    "    if (doublemeasurement(Na,psi0,Vab,Eab)>0):\n",
    "        Nsame = Nsame + 1\n",
    "        \n",
    "    else:\n",
    "        Ndiff = Ndiff+1\n",
    "        \n",
    "print('The probability of same measurement is ' + str(Nsame/Nm))\n",
    "print('The probability of different measurement is ' + str(Ndiff/Nm))\n",
    "\n",
    "if Nsame>4.0*Nm/9.0:\n",
    "    print('Bell inequality VIOLATED!')\n",
    "else:\n",
    "    print('Bell inequality satisfied.')"
   ]
  }
 ],
 "metadata": {
  "kernelspec": {
   "display_name": "Python 3",
   "language": "python",
   "name": "python3"
  },
  "language_info": {
   "codemirror_mode": {
    "name": "ipython",
    "version": 3
   },
   "file_extension": ".py",
   "mimetype": "text/x-python",
   "name": "python",
   "nbconvert_exporter": "python",
   "pygments_lexer": "ipython3",
   "version": "3.6.5"
  }
 },
 "nbformat": 4,
 "nbformat_minor": 4
}
