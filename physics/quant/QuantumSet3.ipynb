{
 "cells": [
  {
   "cell_type": "code",
   "execution_count": null,
   "metadata": {},
   "outputs": [],
   "source": []
  },
  {
   "cell_type": "code",
   "execution_count": 14,
   "metadata": {},
   "outputs": [],
   "source": [
    "from sympy import *\n",
    "from pylab import *\n",
    "init_printing(use_unicode=True)"
   ]
  },
  {
   "cell_type": "code",
   "execution_count": 3,
   "metadata": {},
   "outputs": [],
   "source": [
    "a1 = Symbol(\"a1\")\n",
    "a2 = Symbol(\"a2\")\n",
    "a3 = Symbol(\"a3\")\n",
    "b1 = Symbol(\"b1\")\n",
    "b2 = Symbol(\"b2\")\n",
    "A = Matrix([[a1,0,0],[0,a2,0],[0,0,a3]])\n",
    "B = Matrix([[b1,0,0],[0,0,b2],[0,b2,0]])\n",
    "#A = Operator(\"A\")\n",
    "#B = Operator(\"B\")\n"
   ]
  },
  {
   "cell_type": "code",
   "execution_count": 4,
   "metadata": {},
   "outputs": [
    {
     "data": {
      "image/png": "[encoded data removed]",
      "text/latex": [
       "$$\\left[\\begin{matrix}a_{1} & 0 & 0\\\\0 & a_{2} & 0\\\\0 & 0 & a_{3}\\end{matrix}\\right]$$"
      ],
      "text/plain": [
       "⎡a₁  0   0 ⎤\n",
       "⎢          ⎥\n",
       "⎢0   a₂  0 ⎥\n",
       "⎢          ⎥\n",
       "⎣0   0   a₃⎦"
      ]
     },
     "execution_count": 4,
     "metadata": {},
     "output_type": "execute_result"
    }
   ],
   "source": [
    "A"
   ]
  },
  {
   "cell_type": "code",
   "execution_count": 4,
   "metadata": {},
   "outputs": [
    {
     "data": {
      "image/png": "[encoded data removed]",
      "text/latex": [
       "$$\\left[\\begin{matrix}b_{1} & 0 & 0\\\\0 & 0 & b_{2}\\\\0 & b_{2} & 0\\end{matrix}\\right]$$"
      ],
      "text/plain": [
       "⎡b₁  0   0 ⎤\n",
       "⎢          ⎥\n",
       "⎢0   0   b₂⎥\n",
       "⎢          ⎥\n",
       "⎣0   b₂  0 ⎦"
      ]
     },
     "execution_count": 4,
     "metadata": {},
     "output_type": "execute_result"
    }
   ],
   "source": [
    "B"
   ]
  },
  {
   "cell_type": "code",
   "execution_count": 5,
   "metadata": {},
   "outputs": [
    {
     "data": {
      "image/png": "[encoded data removed]",
      "text/latex": [
       "$$\\left[\\begin{matrix}0 & 0 & 0\\\\0 & 0 & a_{2} b_{2} - a_{3} b_{2}\\\\0 & - a_{2} b_{2} + a_{3} b_{2} & 0\\end{matrix}\\right]$$"
      ],
      "text/plain": [
       "⎡0        0               0      ⎤\n",
       "⎢                                ⎥\n",
       "⎢0        0         a₂⋅b₂ - a₃⋅b₂⎥\n",
       "⎢                                ⎥\n",
       "⎣0  -a₂⋅b₂ + a₃⋅b₂        0      ⎦"
      ]
     },
     "execution_count": 5,
     "metadata": {},
     "output_type": "execute_result"
    }
   ],
   "source": [
    "A*B - B*A"
   ]
  },
  {
   "cell_type": "code",
   "execution_count": 6,
   "metadata": {},
   "outputs": [
    {
     "data": {
      "image/png": "[encoded data removed]",
      "text/latex": [
       "$$\\left [ \\left ( a_{1}, \\quad 1, \\quad \\left [ \\left[\\begin{matrix}1\\\\0\\\\0\\end{matrix}\\right]\\right ]\\right ), \\quad \\left ( a_{2}, \\quad 1, \\quad \\left [ \\left[\\begin{matrix}0\\\\1\\\\0\\end{matrix}\\right]\\right ]\\right ), \\quad \\left ( a_{3}, \\quad 1, \\quad \\left [ \\left[\\begin{matrix}0\\\\0\\\\1\\end{matrix}\\right]\\right ]\\right )\\right ]$$"
      ],
      "text/plain": [
       "⎡⎛       ⎡⎡1⎤⎤⎞  ⎛       ⎡⎡0⎤⎤⎞  ⎛       ⎡⎡0⎤⎤⎞⎤\n",
       "⎢⎜       ⎢⎢ ⎥⎥⎟  ⎜       ⎢⎢ ⎥⎥⎟  ⎜       ⎢⎢ ⎥⎥⎟⎥\n",
       "⎢⎜a₁, 1, ⎢⎢0⎥⎥⎟, ⎜a₂, 1, ⎢⎢1⎥⎥⎟, ⎜a₃, 1, ⎢⎢0⎥⎥⎟⎥\n",
       "⎢⎜       ⎢⎢ ⎥⎥⎟  ⎜       ⎢⎢ ⎥⎥⎟  ⎜       ⎢⎢ ⎥⎥⎟⎥\n",
       "⎣⎝       ⎣⎣0⎦⎦⎠  ⎝       ⎣⎣0⎦⎦⎠  ⎝       ⎣⎣1⎦⎦⎠⎦"
      ]
     },
     "execution_count": 6,
     "metadata": {},
     "output_type": "execute_result"
    }
   ],
   "source": [
    "A.eigenvects()"
   ]
  },
  {
   "cell_type": "code",
   "execution_count": 7,
   "metadata": {},
   "outputs": [
    {
     "data": {
      "image/png": "[encoded data removed]",
      "text/latex": [
       "$$\\left [ \\left ( b_{1}, \\quad 1, \\quad \\left [ \\left[\\begin{matrix}1\\\\0\\\\0\\end{matrix}\\right]\\right ]\\right ), \\quad \\left ( - b_{2}, \\quad 1, \\quad \\left [ \\left[\\begin{matrix}0\\\\-1\\\\1\\end{matrix}\\right]\\right ]\\right ), \\quad \\left ( b_{2}, \\quad 1, \\quad \\left [ \\left[\\begin{matrix}0\\\\1\\\\1\\end{matrix}\\right]\\right ]\\right )\\right ]$$"
      ],
      "text/plain": [
       "⎡⎛       ⎡⎡1⎤⎤⎞  ⎛        ⎡⎡0 ⎤⎤⎞  ⎛       ⎡⎡0⎤⎤⎞⎤\n",
       "⎢⎜       ⎢⎢ ⎥⎥⎟  ⎜        ⎢⎢  ⎥⎥⎟  ⎜       ⎢⎢ ⎥⎥⎟⎥\n",
       "⎢⎜b₁, 1, ⎢⎢0⎥⎥⎟, ⎜-b₂, 1, ⎢⎢-1⎥⎥⎟, ⎜b₂, 1, ⎢⎢1⎥⎥⎟⎥\n",
       "⎢⎜       ⎢⎢ ⎥⎥⎟  ⎜        ⎢⎢  ⎥⎥⎟  ⎜       ⎢⎢ ⎥⎥⎟⎥\n",
       "⎣⎝       ⎣⎣0⎦⎦⎠  ⎝        ⎣⎣1 ⎦⎦⎠  ⎝       ⎣⎣1⎦⎦⎠⎦"
      ]
     },
     "execution_count": 7,
     "metadata": {},
     "output_type": "execute_result"
    }
   ],
   "source": [
    "B.eigenvects()"
   ]
  },
  {
   "cell_type": "code",
   "execution_count": 13,
   "metadata": {},
   "outputs": [
    {
     "ename": "AttributeError",
     "evalue": "'Symbol' object has no attribute 'exp'",
     "output_type": "error",
     "traceback": [
      "\u001b[0;31m---------------------------------------------------------------------------\u001b[0m",
      "\u001b[0;31mAttributeError\u001b[0m                            Traceback (most recent call last)",
      "\u001b[0;32m<ipython-input-13-98f184114f21>\u001b[0m in \u001b[0;36m<module>\u001b[0;34m()\u001b[0m\n\u001b[0;32m----> 1\u001b[0;31m \u001b[0mbtwo\u001b[0m \u001b[0;34m=\u001b[0m \u001b[0mBra\u001b[0m\u001b[0;34m(\u001b[0m\u001b[0mnp\u001b[0m\u001b[0;34m.\u001b[0m\u001b[0mexp\u001b[0m\u001b[0;34m(\u001b[0m\u001b[0ma1\u001b[0m\u001b[0;34m)\u001b[0m\u001b[0;34m)\u001b[0m\u001b[0;34m\u001b[0m\u001b[0m\n\u001b[0m\u001b[1;32m      2\u001b[0m \u001b[0mbtwo\u001b[0m\u001b[0;34m\u001b[0m\u001b[0m\n",
      "\u001b[0;31mAttributeError\u001b[0m: 'Symbol' object has no attribute 'exp'"
     ]
    }
   ],
   "source": [
    "btwo = Bra(np.exp(a1))\n",
    "btwo"
   ]
  },
  {
   "cell_type": "code",
   "execution_count": 6,
   "metadata": {},
   "outputs": [
    {
     "data": {
      "image/png": "[encoded data removed]",
      "text/latex": [
       "$${\\left|2\\right\\rangle }$$"
      ],
      "text/plain": [
       "❘2⟩"
      ]
     },
     "execution_count": 6,
     "metadata": {},
     "output_type": "execute_result"
    }
   ],
   "source": [
    "ktwo = Ket(\"2\")\n",
    "ktwo"
   ]
  },
  {
   "cell_type": "code",
   "execution_count": 8,
   "metadata": {},
   "outputs": [
    {
     "data": {
      "image/png": "[encoded data removed]",
      "text/latex": [
       "$$\\left\\langle 2 \\right. {\\left|2\\right\\rangle }$$"
      ],
      "text/plain": [
       "⟨2❘2⟩"
      ]
     },
     "execution_count": 8,
     "metadata": {},
     "output_type": "execute_result"
    }
   ],
   "source": [
    "InnerProduct(btwo,ktwo)"
   ]
  },
  {
   "cell_type": "code",
   "execution_count": 11,
   "metadata": {},
   "outputs": [
    {
     "data": {
      "image/png": "[encoded data removed]",
      "text/latex": [
       "$$\\left[\\begin{matrix}a_{1} {\\left|2\\right\\rangle } {\\left\\langle 2\\right|} & 0 & 0\\\\0 & a_{2} {\\left|2\\right\\rangle } {\\left\\langle 2\\right|} & 0\\\\0 & 0 & a_{3} {\\left|2\\right\\rangle } {\\left\\langle 2\\right|}\\end{matrix}\\right]$$"
      ],
      "text/plain": [
       "⎡a₁⋅❘2⟩⋅⟨2❘      0           0     ⎤\n",
       "⎢                                  ⎥\n",
       "⎢    0       a₂⋅❘2⟩⋅⟨2❘      0     ⎥\n",
       "⎢                                  ⎥\n",
       "⎣    0           0       a₃⋅❘2⟩⋅⟨2❘⎦"
      ]
     },
     "execution_count": 11,
     "metadata": {},
     "output_type": "execute_result"
    }
   ],
   "source": [
    "btwo*A*ktwo"
   ]
  },
  {
   "cell_type": "code",
   "execution_count": 12,
   "metadata": {},
   "outputs": [
    {
     "data": {
      "image/png": "[encoded data removed]",
      "text/latex": [
       "$$\\left[\\begin{matrix}b_{1} {\\left|2\\right\\rangle } {\\left\\langle 2\\right|} & 0 & 0\\\\0 & 0 & b_{2} {\\left|2\\right\\rangle } {\\left\\langle 2\\right|}\\\\0 & b_{2} {\\left|2\\right\\rangle } {\\left\\langle 2\\right|} & 0\\end{matrix}\\right]$$"
      ],
      "text/plain": [
       "⎡b₁⋅❘2⟩⋅⟨2❘      0           0     ⎤\n",
       "⎢                                  ⎥\n",
       "⎢    0           0       b₂⋅❘2⟩⋅⟨2❘⎥\n",
       "⎢                                  ⎥\n",
       "⎣    0       b₂⋅❘2⟩⋅⟨2❘      0     ⎦"
      ]
     },
     "execution_count": 12,
     "metadata": {},
     "output_type": "execute_result"
    }
   ],
   "source": [
    "btwo*B*ktwo"
   ]
  },
  {
   "cell_type": "code",
   "execution_count": 21,
   "metadata": {},
   "outputs": [
    {
     "data": {
      "image/png": "[encoded data removed]",
      "text/latex": [
       "$$\\left [ \\left ( - a, \\quad 1, \\quad \\left [ \\left[\\begin{matrix}-1\\\\1\\end{matrix}\\right]\\right ]\\right ), \\quad \\left ( a, \\quad 1, \\quad \\left [ \\left[\\begin{matrix}1\\\\1\\end{matrix}\\right]\\right ]\\right )\\right ]$$"
      ],
      "text/plain": [
       "⎡⎛       ⎡⎡-1⎤⎤⎞  ⎛      ⎡⎡1⎤⎤⎞⎤\n",
       "⎢⎜-a, 1, ⎢⎢  ⎥⎥⎟, ⎜a, 1, ⎢⎢ ⎥⎥⎟⎥\n",
       "⎣⎝       ⎣⎣1 ⎦⎦⎠  ⎝      ⎣⎣1⎦⎦⎠⎦"
      ]
     },
     "execution_count": 21,
     "metadata": {},
     "output_type": "execute_result"
    }
   ],
   "source": [
    "a = Symbol(\"a\")\n",
    "A = Matrix([[0,a],[a,0]])\n",
    "A.eigenvects()"
   ]
  },
  {
   "cell_type": "code",
   "execution_count": 24,
   "metadata": {},
   "outputs": [
    {
     "data": {
      "image/png": "[encoded data removed]",
      "text/latex": [
       "$$\\sqrt{2} \\left|{a}\\right|$$"
      ],
      "text/plain": [
       "√2⋅│a│"
      ]
     },
     "execution_count": 24,
     "metadata": {},
     "output_type": "execute_result"
    }
   ],
   "source": [
    "A.norm()"
   ]
  },
  {
   "cell_type": "code",
   "execution_count": 14,
   "metadata": {},
   "outputs": [
    {
     "data": {
      "image/png": "[encoded data removed]",
      "text/latex": [
       "$$\\left [ \\left ( E_{1}, \\quad 1, \\quad \\left [ \\left[\\begin{matrix}1\\\\0\\end{matrix}\\right]\\right ]\\right ), \\quad \\left ( E_{2}, \\quad 1, \\quad \\left [ \\left[\\begin{matrix}0\\\\1\\end{matrix}\\right]\\right ]\\right )\\right ]$$"
      ],
      "text/plain": [
       "⎡⎛       ⎡⎡1⎤⎤⎞  ⎛       ⎡⎡0⎤⎤⎞⎤\n",
       "⎢⎜E₁, 1, ⎢⎢ ⎥⎥⎟, ⎜E₂, 1, ⎢⎢ ⎥⎥⎟⎥\n",
       "⎣⎝       ⎣⎣0⎦⎦⎠  ⎝       ⎣⎣1⎦⎦⎠⎦"
      ]
     },
     "execution_count": 14,
     "metadata": {},
     "output_type": "execute_result"
    }
   ],
   "source": [
    "E1 = Symbol(\"E1\")\n",
    "E2 = Symbol(\"E2\")\n",
    "H = Matrix([[E1,0],[0,E2]])\n",
    "H.eigenvects()"
   ]
  },
  {
   "cell_type": "code",
   "execution_count": 15,
   "metadata": {},
   "outputs": [],
   "source": [
    "am = matrix([[1],[1]])"
   ]
  },
  {
   "cell_type": "code",
   "execution_count": 16,
   "metadata": {},
   "outputs": [
    {
     "data": {
      "image/png": "[encoded data removed]",
      "text/latex": [
       "$$\\left [ \\left ( E_{1}, \\quad 1, \\quad \\left [ \\left[\\begin{matrix}0\\\\1\\\\0\\end{matrix}\\right]\\right ]\\right ), \\quad \\left ( - A + E_{0}, \\quad 1, \\quad \\left [ \\left[\\begin{matrix}-1\\\\0\\\\1\\end{matrix}\\right]\\right ]\\right ), \\quad \\left ( A + E_{0}, \\quad 1, \\quad \\left [ \\left[\\begin{matrix}1\\\\0\\\\1\\end{matrix}\\right]\\right ]\\right )\\right ]$$"
      ],
      "text/plain": [
       "⎡⎛       ⎡⎡0⎤⎤⎞  ⎛            ⎡⎡-1⎤⎤⎞  ⎛           ⎡⎡1⎤⎤⎞⎤\n",
       "⎢⎜       ⎢⎢ ⎥⎥⎟  ⎜            ⎢⎢  ⎥⎥⎟  ⎜           ⎢⎢ ⎥⎥⎟⎥\n",
       "⎢⎜E₁, 1, ⎢⎢1⎥⎥⎟, ⎜-A + E₀, 1, ⎢⎢0 ⎥⎥⎟, ⎜A + E₀, 1, ⎢⎢0⎥⎥⎟⎥\n",
       "⎢⎜       ⎢⎢ ⎥⎥⎟  ⎜            ⎢⎢  ⎥⎥⎟  ⎜           ⎢⎢ ⎥⎥⎟⎥\n",
       "⎣⎝       ⎣⎣0⎦⎦⎠  ⎝            ⎣⎣1 ⎦⎦⎠  ⎝           ⎣⎣1⎦⎦⎠⎦"
      ]
     },
     "execution_count": 16,
     "metadata": {},
     "output_type": "execute_result"
    }
   ],
   "source": [
    "E0 = Symbol(\"E0\")\n",
    "E1 = Symbol(\"E1\")\n",
    "A = Symbol(\"A\")\n",
    "H = Matrix([[E0,0,A],[0,E1,0],[A,0,E0]])\n",
    "H.eigenvects()"
   ]
  },
  {
   "cell_type": "code",
   "execution_count": 17,
   "metadata": {},
   "outputs": [],
   "source": [
    "def spinx(s):\n",
    "\n",
    "    n = int(2.0*s+1)\n",
    "    sx = matrix(zeros((n,n)))\n",
    "    for a in range(0,n):\n",
    "        for b in range(0,n):\n",
    "            if (a==b+1):\n",
    "                sx[a,b] = sx[a,b] + 0.5*sqrt((s+1)*(a+b+1)-(a+1)*(b+1))\n",
    "            elif (a==b-1):\n",
    "                sx[a,b] = sx[a,b] + 0.5*sqrt((s+1)*(a+b+1)-(a+1)*(b+1))\n",
    "                \n",
    "    return sx\n",
    "\n",
    "\n",
    "def spiny(s):\n",
    "    n = int(2.0*s+1)\n",
    "    sy = matrix(zeros((n,n),dtype='complex'))\n",
    "\n",
    "    for a in range(0,n):\n",
    "        for b in range(0,n):\n",
    "            if (a==b+1):\n",
    "                sy[a,b] = sy[a,b] + 0.5j*sqrt((s+1)*(a+b+1)-(a+1)*(b+1))\n",
    "            elif (a==b-1):\n",
    "                sy[a,b] = sy[a,b] - 0.5j*sqrt((s+1)*(a+b+1)-(a+1)*(b+1))\n",
    "                \n",
    "    return sy\n",
    "    \n",
    "def spinz(s):\n",
    "    \n",
    "    n = int(2.0*s+1)\n",
    "    sz = matrix(zeros((n,n)))\n",
    "\n",
    "    for a in range(0,n):\n",
    "        for b in range(0,n):\n",
    "    \n",
    "            if (a==b):\n",
    "                sz[a,b] = (s+1-b-1)\n",
    "                \n",
    "    return sz"
   ]
  },
  {
   "cell_type": "markdown",
   "metadata": {},
   "source": [
    "Sx = Sx1+Sx2+Sx3\n",
    "Sy = ...\n",
    "Sz = ..."
   ]
  },
  {
   "cell_type": "code",
   "execution_count": 18,
   "metadata": {},
   "outputs": [
    {
     "data": {
      "image/png": "[encoded data removed]",
      "text/latex": [
       "$$\\left \\{ \\frac{3}{4} : 4, \\quad \\frac{15}{4} : 4\\right \\}$$"
      ],
      "text/plain": [
       "{3/4: 4, 15/4: 4}"
      ]
     },
     "execution_count": 18,
     "metadata": {},
     "output_type": "execute_result"
    }
   ],
   "source": [
    "s = 0.5\n",
    "I = eye(2)\n",
    "Sx = spinx(s)\n",
    "Sy = spiny(s)\n",
    "Sz = spinz(s)\n",
    "Sx = kron(Sx,kron(I,I)) + kron(I,kron(Sx,I)) + kron(I,kron(I,Sx))\n",
    "Sy = kron(Sy,kron(I,I)) + kron(I,kron(Sy,I)) + kron(I,kron(I,Sy))\n",
    "Sz = kron(Sz,kron(I,I)) + kron(I,kron(Sz,I)) + kron(I,kron(I,Sz))\n",
    "S = Sx**2 + Sy**2 + Sz**2\n",
    "Ssym = Matrix(S)\n",
    "Ssym.eigenvals()"
   ]
  },
  {
   "cell_type": "code",
   "execution_count": 33,
   "metadata": {},
   "outputs": [
    {
     "name": "stdout",
     "output_type": "stream",
     "text": [
      "(array([0.90945995, 0.90945995, 0.92998827, 0.92998827, 1.81247626,\n",
      "       1.81247626, 1.81767956, 1.81767956, 2.27954832, 2.27954832,\n",
      "       3.1811134 , 3.1811134 , 3.52165545, 3.52165545, 4.00233218,\n",
      "       4.00233218, 5.29574662, 5.29574662]), matrix([[-2.84935689e-02+0.j,  1.44440448e-02+0.j, -1.95806287e-17+0.j,\n",
      "         -1.55860475e-16+0.j, -1.53235477e-05+0.j, -2.29912893e-02+0.j,\n",
      "         -4.30480258e-16+0.j,  1.82021408e-16+0.j, -5.31456195e-03+0.j,\n",
      "         -2.61639022e-01+0.j, -4.17645920e-01+0.j, -5.19639391e-03+0.j,\n",
      "          7.27492515e-01+0.j, -1.18784550e-01+0.j, -1.96978566e-17+0.j,\n",
      "         -2.05332620e-20+0.j,  4.60605492e-01+0.j,  3.83752466e-16+0.j],\n",
      "        [ 2.68755940e-01+0.j,  5.30171152e-01+0.j, -8.24115253e-15+0.j,\n",
      "          8.38123015e-15+0.j,  6.49836820e-01+0.j, -4.33112096e-04+0.j,\n",
      "          1.28368843e-13+0.j,  3.62709402e-14+0.j,  3.50216631e-01+0.j,\n",
      "         -7.11380117e-03+0.j, -1.45545278e-03+0.j,  1.16978028e-01+0.j,\n",
      "          4.29526955e-02+0.j,  2.63062533e-01+0.j,  2.33067269e-16+0.j,\n",
      "          3.21388126e-16+0.j,  3.33066907e-16+0.j, -1.30252106e-01+0.j],\n",
      "        [ 5.00075678e-02+0.j, -2.53499853e-02+0.j, -4.92503134e-03+0.j,\n",
      "          4.74501091e-02+0.j, -8.84871661e-05+0.j, -1.32765211e-01+0.j,\n",
      "          2.23073554e-01+0.j,  6.92011875e-02+0.j,  5.51225716e-03+0.j,\n",
      "          2.71371674e-01+0.j,  4.66219358e-01+0.j,  5.80074968e-03+0.j,\n",
      "          9.30382477e-02+0.j, -1.51912303e-02+0.j,  4.27148304e-01+0.j,\n",
      "          5.10605467e-01+0.j,  4.23409984e-01+0.j, -2.49800181e-16+0.j],\n",
      "        [-2.41579035e-01+0.j, -4.76559643e-01+0.j,  3.44002418e-01+0.j,\n",
      "          3.57053486e-02+0.j,  2.17910750e-01+0.j, -1.45236125e-04+0.j,\n",
      "         -1.74602510e-01+0.j,  5.62840089e-01+0.j,  2.98812494e-01+0.j,\n",
      "         -6.06965085e-03+0.j,  7.61672859e-04+0.j, -6.12173687e-02+0.j,\n",
      "          3.37823423e-02+0.j,  2.06898972e-01+0.j,  1.39570698e-01+0.j,\n",
      "         -1.16758223e-01+0.j,  1.66533454e-16+0.j, -1.73271566e-01+0.j],\n",
      "        [ 1.59097102e-01+0.j, -8.06499773e-02+0.j,  6.34826409e-02+0.j,\n",
      "         -6.11622147e-01+0.j,  2.67097837e-04+0.j,  4.00750777e-01+0.j,\n",
      "         -2.99259090e-01+0.j, -9.28352285e-02+0.j, -9.43190159e-03+0.j,\n",
      "         -4.64338083e-01+0.j,  2.83229049e-01+0.j,  3.52396524e-03+0.j,\n",
      "         -4.47687004e-02+0.j,  7.30980706e-03+0.j,  9.88082999e-02+0.j,\n",
      "          1.18113680e-01+0.j,  9.79532481e-02+0.j, -1.38777878e-17+0.j],\n",
      "        [ 8.06499773e-02+0.j,  1.59097102e-01+0.j, -6.11622147e-01+0.j,\n",
      "         -6.34826409e-02+0.j, -4.00750777e-01+0.j,  2.67097837e-04+0.j,\n",
      "         -9.28352285e-02+0.j,  2.99259090e-01+0.j,  4.64338083e-01+0.j,\n",
      "         -9.43190159e-03+0.j,  3.52396524e-03+0.j, -2.83229049e-01+0.j,\n",
      "          7.30980706e-03+0.j,  4.47687004e-02+0.j,  1.18113680e-01+0.j,\n",
      "         -9.88082999e-02+0.j,  7.17047823e-17+0.j, -9.79532481e-02+0.j],\n",
      "        [ 5.00075678e-02+0.j, -2.53499853e-02+0.j,  4.92503134e-03+0.j,\n",
      "         -4.74501091e-02+0.j, -8.84871660e-05+0.j, -1.32765211e-01+0.j,\n",
      "         -2.23073554e-01+0.j, -6.92011875e-02+0.j,  5.51225716e-03+0.j,\n",
      "          2.71371674e-01+0.j,  4.66219358e-01+0.j,  5.80074968e-03+0.j,\n",
      "          9.30382477e-02+0.j, -1.51912303e-02+0.j, -4.27148304e-01+0.j,\n",
      "         -5.10605467e-01+0.j,  4.23409984e-01+0.j,  8.60422844e-16+0.j],\n",
      "        [-2.41579035e-01+0.j, -4.76559643e-01+0.j, -3.44002418e-01+0.j,\n",
      "         -3.57053486e-02+0.j,  2.17910750e-01+0.j, -1.45236125e-04+0.j,\n",
      "          1.74602510e-01+0.j, -5.62840089e-01+0.j,  2.98812494e-01+0.j,\n",
      "         -6.06965085e-03+0.j,  7.61672859e-04+0.j, -6.12173687e-02+0.j,\n",
      "          3.37823423e-02+0.j,  2.06898972e-01+0.j, -1.39570698e-01+0.j,\n",
      "          1.16758223e-01+0.j,  1.59932480e-16+0.j, -1.73271566e-01+0.j],\n",
      "        [ 6.18591115e-02+0.j, -3.13578052e-02+0.j, -9.59050080e-17+0.j,\n",
      "          2.52147256e-16+0.j,  2.36353807e-04+0.j,  3.54622759e-01+0.j,\n",
      "          6.75044327e-15+0.j, -2.78160125e-15+0.j,  4.60509878e-03+0.j,\n",
      "          2.26711731e-01+0.j, -4.57252385e-01+0.j, -5.68918167e-03+0.j,\n",
      "         -5.18314396e-01+0.j,  8.46300695e-02+0.j,  2.70025729e-16+0.j,\n",
      "          2.13305642e-16+0.j,  5.77138798e-01+0.j,  4.02455846e-16+0.j],\n",
      "        [ 3.13578052e-02+0.j,  6.18591115e-02+0.j, -9.39817382e-16+0.j,\n",
      "          8.96043271e-16+0.j, -3.54622759e-01+0.j,  2.36353807e-04+0.j,\n",
      "         -6.99321496e-14+0.j, -1.98393920e-14+0.j, -2.26711731e-01+0.j,\n",
      "          4.60509878e-03+0.j, -5.68918167e-03+0.j,  4.57252385e-01+0.j,\n",
      "          8.46300695e-02+0.j,  5.18314396e-01+0.j, -6.35680782e-16+0.j,\n",
      "          3.85180507e-16+0.j,  4.64375452e-16+0.j, -5.77138798e-01+0.j],\n",
      "        [-4.76559643e-01+0.j,  2.41579035e-01+0.j, -3.57053486e-02+0.j,\n",
      "          3.44002418e-01+0.j, -1.45236125e-04+0.j, -2.17910750e-01+0.j,\n",
      "         -5.62840089e-01+0.j, -1.74602510e-01+0.j, -6.06965085e-03+0.j,\n",
      "         -2.98812494e-01+0.j,  6.12173687e-02+0.j,  7.61672859e-04+0.j,\n",
      "         -2.06898972e-01+0.j,  3.37823423e-02+0.j,  1.16758223e-01+0.j,\n",
      "          1.39570698e-01+0.j,  1.73271566e-01+0.j, -2.08166817e-17+0.j],\n",
      "        [ 2.53499853e-02+0.j,  5.00075678e-02+0.j,  4.74501091e-02+0.j,\n",
      "          4.92503134e-03+0.j,  1.32765211e-01+0.j, -8.84871660e-05+0.j,\n",
      "          6.92011875e-02+0.j, -2.23073554e-01+0.j, -2.71371674e-01+0.j,\n",
      "          5.51225716e-03+0.j,  5.80074968e-03+0.j, -4.66219358e-01+0.j,\n",
      "         -1.51912303e-02+0.j, -9.30382477e-02+0.j,  5.10605467e-01+0.j,\n",
      "         -4.27148304e-01+0.j,  2.94925276e-16+0.j, -4.23409984e-01+0.j],\n",
      "        [ 1.59097102e-01+0.j, -8.06499773e-02+0.j, -6.34826409e-02+0.j,\n",
      "          6.11622147e-01+0.j,  2.67097837e-04+0.j,  4.00750777e-01+0.j,\n",
      "          2.99259090e-01+0.j,  9.28352285e-02+0.j, -9.43190159e-03+0.j,\n",
      "         -4.64338083e-01+0.j,  2.83229049e-01+0.j,  3.52396524e-03+0.j,\n",
      "         -4.47687004e-02+0.j,  7.30980706e-03+0.j, -9.88082999e-02+0.j,\n",
      "         -1.18113680e-01+0.j,  9.79532481e-02+0.j,  1.90819582e-16+0.j],\n",
      "        [ 8.06499773e-02+0.j,  1.59097102e-01+0.j,  6.11622147e-01+0.j,\n",
      "          6.34826409e-02+0.j, -4.00750777e-01+0.j,  2.67097837e-04+0.j,\n",
      "          9.28352285e-02+0.j, -2.99259090e-01+0.j,  4.64338083e-01+0.j,\n",
      "         -9.43190159e-03+0.j,  3.52396524e-03+0.j, -2.83229049e-01+0.j,\n",
      "          7.30980706e-03+0.j,  4.47687004e-02+0.j, -1.18113680e-01+0.j,\n",
      "          9.88082999e-02+0.j,  7.11101758e-17+0.j, -9.79532481e-02+0.j],\n",
      "        [-4.76559643e-01+0.j,  2.41579035e-01+0.j,  3.57053486e-02+0.j,\n",
      "         -3.44002418e-01+0.j, -1.45236125e-04+0.j, -2.17910750e-01+0.j,\n",
      "          5.62840089e-01+0.j,  1.74602510e-01+0.j, -6.06965085e-03+0.j,\n",
      "         -2.98812494e-01+0.j,  6.12173687e-02+0.j,  7.61672859e-04+0.j,\n",
      "         -2.06898972e-01+0.j,  3.37823423e-02+0.j, -1.16758223e-01+0.j,\n",
      "         -1.39570698e-01+0.j,  1.73271566e-01+0.j,  2.84494650e-16+0.j],\n",
      "        [ 2.53499853e-02+0.j,  5.00075678e-02+0.j, -4.74501091e-02+0.j,\n",
      "         -4.92503134e-03+0.j,  1.32765211e-01+0.j, -8.84871660e-05+0.j,\n",
      "         -6.92011875e-02+0.j,  2.23073554e-01+0.j, -2.71371674e-01+0.j,\n",
      "          5.51225716e-03+0.j,  5.80074968e-03+0.j, -4.66219358e-01+0.j,\n",
      "         -1.51912303e-02+0.j, -9.30382477e-02+0.j, -5.10605467e-01+0.j,\n",
      "          4.27148304e-01+0.j,  2.94325374e-16+0.j, -4.23409984e-01+0.j],\n",
      "        [ 5.30171152e-01+0.j, -2.68755940e-01+0.j,  6.12140547e-16+0.j,\n",
      "          2.80157841e-15+0.j, -4.33112096e-04+0.j, -6.49836820e-01+0.j,\n",
      "         -1.25038868e-14+0.j,  4.71844785e-15+0.j, -7.11380117e-03+0.j,\n",
      "         -3.50216631e-01+0.j, -1.16978028e-01+0.j, -1.45545278e-03+0.j,\n",
      "         -2.63062533e-01+0.j,  4.29526955e-02+0.j,  1.38777878e-17+0.j,\n",
      "          2.77555756e-17+0.j,  1.30252106e-01+0.j,  1.00613962e-16+0.j],\n",
      "        [-1.44440448e-02+0.j, -2.84935689e-02+0.j,  6.03199447e-16+0.j,\n",
      "         -3.78043352e-16+0.j,  2.29912893e-02+0.j, -1.53235477e-05+0.j,\n",
      "          4.59292239e-15+0.j,  1.09646352e-15+0.j,  2.61639022e-01+0.j,\n",
      "         -5.31456195e-03+0.j, -5.19639391e-03+0.j,  4.17645920e-01+0.j,\n",
      "         -1.18784550e-01+0.j, -7.27492515e-01+0.j, -6.51029224e-16+0.j,\n",
      "         -7.45584286e-17+0.j,  3.07932528e-16+0.j, -4.60605492e-01+0.j]]))\n"
     ]
    }
   ],
   "source": [
    "print(eigh(S))"
   ]
  },
  {
   "cell_type": "code",
   "execution_count": 48,
   "metadata": {},
   "outputs": [
    {
     "data": {
      "image/png": "[encoded data removed]",
      "text/latex": [
       "$$\\left [ \\left ( - \\sqrt{2}, \\quad 1, \\quad \\left [ \\left[\\begin{matrix}- \\frac{1}{1 + \\sqrt{2}}\\\\1\\end{matrix}\\right]\\right ]\\right ), \\quad \\left ( \\sqrt{2}, \\quad 1, \\quad \\left [ \\left[\\begin{matrix}- \\frac{1}{- \\sqrt{2} + 1}\\\\1\\end{matrix}\\right]\\right ]\\right )\\right ]$$"
      ],
      "text/plain": [
       "⎡⎛        ⎡⎡ -1   ⎤⎤⎞  ⎛       ⎡⎡  -1   ⎤⎤⎞⎤\n",
       "⎢⎜        ⎢⎢──────⎥⎥⎟  ⎜       ⎢⎢───────⎥⎥⎟⎥\n",
       "⎢⎜-√2, 1, ⎢⎢1 + √2⎥⎥⎟, ⎜√2, 1, ⎢⎢-√2 + 1⎥⎥⎟⎥\n",
       "⎢⎜        ⎢⎢      ⎥⎥⎟  ⎜       ⎢⎢       ⎥⎥⎟⎥\n",
       "⎣⎝        ⎣⎣  1   ⎦⎦⎠  ⎝       ⎣⎣   1   ⎦⎦⎠⎦"
      ]
     },
     "execution_count": 48,
     "metadata": {},
     "output_type": "execute_result"
    }
   ],
   "source": [
    "a = Symbol(\"a\")\n",
    "sqrt2 = Symbol(\"sqrt(2)\")\n",
    "H = Matrix([[1,1],[1,-1]])\n",
    "Heig = H.eigenvects()\n",
    "Heig"
   ]
  },
  {
   "cell_type": "code",
   "execution_count": 51,
   "metadata": {},
   "outputs": [
    {
     "data": {
      "image/png": "[encoded data removed]",
      "text/latex": [
       "$$2.8284271247461903$$"
      ],
      "text/plain": [
       "2.8284271247461903"
      ]
     },
     "execution_count": 51,
     "metadata": {},
     "output_type": "execute_result"
    }
   ],
   "source": [
    "npH = matrix([[1,1,],[1,-1]])\n",
    "npHeig = eigh(npH)\n",
    "test = np.linalg.norm(npHeig[1])\n",
    "\n",
    "#matrix(Heig[0][2])"
   ]
  },
  {
   "cell_type": "code",
   "execution_count": 39,
   "metadata": {},
   "outputs": [
    {
     "ename": "AttributeError",
     "evalue": "'Add' object has no attribute 'sqrt'",
     "output_type": "error",
     "traceback": [
      "\u001b[0;31m---------------------------------------------------------------------------\u001b[0m",
      "\u001b[0;31mAttributeError\u001b[0m                            Traceback (most recent call last)",
      "\u001b[0;32m<ipython-input-39-e122922f9c5a>\u001b[0m in \u001b[0;36m<module>\u001b[0;34m()\u001b[0m\n\u001b[0;32m----> 1\u001b[0;31m \u001b[0mnp\u001b[0m\u001b[0;34m.\u001b[0m\u001b[0mlinalg\u001b[0m\u001b[0;34m.\u001b[0m\u001b[0mnorm\u001b[0m\u001b[0;34m(\u001b[0m\u001b[0mmatrix\u001b[0m\u001b[0;34m(\u001b[0m\u001b[0mHeig\u001b[0m\u001b[0;34m[\u001b[0m\u001b[0;36m0\u001b[0m\u001b[0;34m]\u001b[0m\u001b[0;34m[\u001b[0m\u001b[0;36m2\u001b[0m\u001b[0;34m]\u001b[0m\u001b[0;34m)\u001b[0m\u001b[0;34m)\u001b[0m\u001b[0;34m\u001b[0m\u001b[0m\n\u001b[0m",
      "\u001b[0;32m~/programs/lib/python3.6/site-packages/numpy/linalg/linalg.py\u001b[0m in \u001b[0;36mnorm\u001b[0;34m(x, ord, axis, keepdims)\u001b[0m\n\u001b[1;32m   2358\u001b[0m             \u001b[0;32melse\u001b[0m\u001b[0;34m:\u001b[0m\u001b[0;34m\u001b[0m\u001b[0m\n\u001b[1;32m   2359\u001b[0m                 \u001b[0msqnorm\u001b[0m \u001b[0;34m=\u001b[0m \u001b[0mdot\u001b[0m\u001b[0;34m(\u001b[0m\u001b[0mx\u001b[0m\u001b[0;34m,\u001b[0m \u001b[0mx\u001b[0m\u001b[0;34m)\u001b[0m\u001b[0;34m\u001b[0m\u001b[0m\n\u001b[0;32m-> 2360\u001b[0;31m             \u001b[0mret\u001b[0m \u001b[0;34m=\u001b[0m \u001b[0msqrt\u001b[0m\u001b[0;34m(\u001b[0m\u001b[0msqnorm\u001b[0m\u001b[0;34m)\u001b[0m\u001b[0;34m\u001b[0m\u001b[0m\n\u001b[0m\u001b[1;32m   2361\u001b[0m             \u001b[0;32mif\u001b[0m \u001b[0mkeepdims\u001b[0m\u001b[0;34m:\u001b[0m\u001b[0;34m\u001b[0m\u001b[0m\n\u001b[1;32m   2362\u001b[0m                 \u001b[0mret\u001b[0m \u001b[0;34m=\u001b[0m \u001b[0mret\u001b[0m\u001b[0;34m.\u001b[0m\u001b[0mreshape\u001b[0m\u001b[0;34m(\u001b[0m\u001b[0mndim\u001b[0m\u001b[0;34m*\u001b[0m\u001b[0;34m[\u001b[0m\u001b[0;36m1\u001b[0m\u001b[0;34m]\u001b[0m\u001b[0;34m)\u001b[0m\u001b[0;34m\u001b[0m\u001b[0m\n",
      "\u001b[0;31mAttributeError\u001b[0m: 'Add' object has no attribute 'sqrt'"
     ]
    }
   ],
   "source": [
    "np.linalg.norm(matrix(Heig[0][2]))"
   ]
  },
  {
   "cell_type": "code",
   "execution_count": null,
   "metadata": {},
   "outputs": [],
   "source": []
  }
 ],
 "metadata": {
  "kernelspec": {
   "display_name": "Python 3",
   "language": "python",
   "name": "python3"
  },
  "language_info": {
   "codemirror_mode": {
    "name": "ipython",
    "version": 3
   },
   "file_extension": ".py",
   "mimetype": "text/x-python",
   "name": "python",
   "nbconvert_exporter": "python",
   "pygments_lexer": "ipython3",
   "version": "3.6.5"
  }
 },
 "nbformat": 4,
 "nbformat_minor": 4
}
