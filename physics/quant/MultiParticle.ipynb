{
 "cells": [
  {
   "cell_type": "markdown",
   "metadata": {},
   "source": [
    "# Lab 3 - Multiparticle Systems"
   ]
  },
  {
   "cell_type": "code",
   "execution_count": 1,
   "metadata": {},
   "outputs": [],
   "source": [
    "from pylab import *"
   ]
  },
  {
   "cell_type": "markdown",
   "metadata": {},
   "source": [
    "Functions to define spin-$s$ matrices:"
   ]
  },
  {
   "cell_type": "code",
   "execution_count": 2,
   "metadata": {},
   "outputs": [],
   "source": [
    "def spinx(s):\n",
    "\n",
    "    n = int(2.0*s+1)\n",
    "    sx = matrix(zeros((n,n)))\n",
    "    for a in range(0,n):\n",
    "        for b in range(0,n):\n",
    "            if (a==b+1):\n",
    "                sx[a,b] = sx[a,b] + 0.5*sqrt((s+1)*(a+b+1)-(a+1)*(b+1))\n",
    "            elif (a==b-1):\n",
    "                sx[a,b] = sx[a,b] + 0.5*sqrt((s+1)*(a+b+1)-(a+1)*(b+1))\n",
    "                \n",
    "    return sx\n",
    "\n",
    "\n",
    "def spiny(s):\n",
    "    n = int(2.0*s+1)\n",
    "    sy = matrix(zeros((n,n),dtype='complex'))\n",
    "\n",
    "    for a in range(0,n):\n",
    "        for b in range(0,n):\n",
    "            if (a==b+1):\n",
    "                sy[a,b] = sy[a,b] + 0.5j*sqrt((s+1)*(a+b+1)-(a+1)*(b+1))\n",
    "            elif (a==b-1):\n",
    "                sy[a,b] = sy[a,b] - 0.5j*sqrt((s+1)*(a+b+1)-(a+1)*(b+1))\n",
    "                \n",
    "    return sy\n",
    "    \n",
    "def spinz(s):\n",
    "    \n",
    "    n = int(2.0*s+1)\n",
    "    sz = matrix(zeros((n,n)))\n",
    "\n",
    "    for a in range(0,n):\n",
    "        for b in range(0,n):\n",
    "    \n",
    "            if (a==b):\n",
    "                sz[a,b] = (s+1-b-1)\n",
    "                \n",
    "    return sz"
   ]
  },
  {
   "cell_type": "markdown",
   "metadata": {},
   "source": [
    "# 1."
   ]
  },
  {
   "cell_type": "code",
   "execution_count": 3,
   "metadata": {},
   "outputs": [
    {
     "name": "stdout",
     "output_type": "stream",
     "text": [
      "[[0.         1.         0.         0.         0.        ]\n",
      " [1.         0.         1.22474487 0.         0.        ]\n",
      " [0.         1.22474487 0.         1.22474487 0.        ]\n",
      " [0.         0.         1.22474487 0.         1.        ]\n",
      " [0.         0.         0.         1.         0.        ]]\n",
      "[[0.+0.j         0.-1.j         0.+0.j         0.+0.j\n",
      "  0.+0.j        ]\n",
      " [0.+1.j         0.+0.j         0.-1.22474487j 0.+0.j\n",
      "  0.+0.j        ]\n",
      " [0.+0.j         0.+1.22474487j 0.+0.j         0.-1.22474487j\n",
      "  0.+0.j        ]\n",
      " [0.+0.j         0.+0.j         0.+1.22474487j 0.+0.j\n",
      "  0.-1.j        ]\n",
      " [0.+0.j         0.+0.j         0.+0.j         0.+1.j\n",
      "  0.+0.j        ]]\n",
      "[[ 2.  0.  0.  0.  0.]\n",
      " [ 0.  1.  0.  0.  0.]\n",
      " [ 0.  0.  0.  0.  0.]\n",
      " [ 0.  0.  0. -1.  0.]\n",
      " [ 0.  0.  0.  0. -2.]]\n"
     ]
    }
   ],
   "source": [
    "s = 2\n",
    "print(spinx(s))\n",
    "print(spiny(s))\n",
    "print(spinz(s))"
   ]
  },
  {
   "cell_type": "code",
   "execution_count": 4,
   "metadata": {},
   "outputs": [
    {
     "name": "stdout",
     "output_type": "stream",
     "text": [
      "[[0.+2.00000000e+00j 0.+0.00000000e+00j 0.+0.00000000e+00j\n",
      "  0.+0.00000000e+00j 0.+0.00000000e+00j]\n",
      " [0.+0.00000000e+00j 0.+1.00000000e+00j 0.+0.00000000e+00j\n",
      "  0.+0.00000000e+00j 0.+0.00000000e+00j]\n",
      " [0.+0.00000000e+00j 0.+0.00000000e+00j 0.-8.71111819e-17j\n",
      "  0.+0.00000000e+00j 0.+0.00000000e+00j]\n",
      " [0.+0.00000000e+00j 0.+0.00000000e+00j 0.+0.00000000e+00j\n",
      "  0.-1.00000000e+00j 0.+0.00000000e+00j]\n",
      " [0.+0.00000000e+00j 0.+0.00000000e+00j 0.+0.00000000e+00j\n",
      "  0.+0.00000000e+00j 0.-2.00000000e+00j]]\n"
     ]
    }
   ],
   "source": [
    "x = spinx(s)*spiny(s)-spiny(s)*spinx(s)\n",
    "print(x)"
   ]
  },
  {
   "cell_type": "markdown",
   "metadata": {},
   "source": [
    "The commutator comes out to be 2i,1i,0,-1i,-2i along the identity! For SxSy, we get iSz! Cool"
   ]
  },
  {
   "cell_type": "code",
   "execution_count": 5,
   "metadata": {},
   "outputs": [
    {
     "name": "stdout",
     "output_type": "stream",
     "text": [
      "[[0.+0.j         0.+1.j         0.+0.j         0.+0.j\n",
      "  0.+0.j        ]\n",
      " [0.+1.j         0.+0.j         0.+1.22474487j 0.+0.j\n",
      "  0.+0.j        ]\n",
      " [0.+0.j         0.+1.22474487j 0.+0.j         0.+1.22474487j\n",
      "  0.+0.j        ]\n",
      " [0.+0.j         0.+0.j         0.+1.22474487j 0.+0.j\n",
      "  0.+1.j        ]\n",
      " [0.+0.j         0.+0.j         0.+0.j         0.+1.j\n",
      "  0.+0.j        ]]\n"
     ]
    }
   ],
   "source": [
    "x = spiny(s)*spinz(s)-spinz(s)*spiny(s)\n",
    "print(x)"
   ]
  },
  {
   "cell_type": "markdown",
   "metadata": {},
   "source": [
    "SySz comes out to be iSx!"
   ]
  },
  {
   "cell_type": "code",
   "execution_count": 6,
   "metadata": {},
   "outputs": [
    {
     "data": {
      "text/plain": [
       "matrix([[6.+0.j, 0.+0.j, 0.+0.j, 0.+0.j, 0.+0.j],\n",
       "        [0.+0.j, 6.+0.j, 0.+0.j, 0.+0.j, 0.+0.j],\n",
       "        [0.+0.j, 0.+0.j, 6.+0.j, 0.+0.j, 0.+0.j],\n",
       "        [0.+0.j, 0.+0.j, 0.+0.j, 6.+0.j, 0.+0.j],\n",
       "        [0.+0.j, 0.+0.j, 0.+0.j, 0.+0.j, 6.+0.j]])"
      ]
     },
     "execution_count": 6,
     "metadata": {},
     "output_type": "execute_result"
    }
   ],
   "source": [
    "S2 = spinx(s)**2 + spiny(s)**2 + spinz(s)**2\n",
    "S2"
   ]
  },
  {
   "cell_type": "markdown",
   "metadata": {},
   "source": [
    "General result is entirely real 6 along the identity!"
   ]
  },
  {
   "cell_type": "code",
   "execution_count": 7,
   "metadata": {},
   "outputs": [
    {
     "name": "stdout",
     "output_type": "stream",
     "text": [
      "[[0.        0.8660254 0.        0.       ]\n",
      " [0.8660254 0.        1.        0.       ]\n",
      " [0.        1.        0.        0.8660254]\n",
      " [0.        0.        0.8660254 0.       ]]\n",
      "[[0.+0.j        0.-0.8660254j 0.+0.j        0.+0.j       ]\n",
      " [0.+0.8660254j 0.+0.j        0.-1.j        0.+0.j       ]\n",
      " [0.+0.j        0.+1.j        0.+0.j        0.-0.8660254j]\n",
      " [0.+0.j        0.+0.j        0.+0.8660254j 0.+0.j       ]]\n",
      "[[ 1.5  0.   0.   0. ]\n",
      " [ 0.   0.5  0.   0. ]\n",
      " [ 0.   0.  -0.5  0. ]\n",
      " [ 0.   0.   0.  -1.5]]\n",
      "[[3.75+0.j 0.  +0.j 0.  +0.j 0.  +0.j]\n",
      " [0.  +0.j 3.75+0.j 0.  +0.j 0.  +0.j]\n",
      " [0.  +0.j 0.  +0.j 3.75+0.j 0.  +0.j]\n",
      " [0.  +0.j 0.  +0.j 0.  +0.j 3.75+0.j]]\n"
     ]
    }
   ],
   "source": [
    "s2 = 3.0/2.0\n",
    "print(spinx(s2))\n",
    "print(spiny(s2))\n",
    "print(spinz(s2))\n",
    "S2 = spinx(s2)**2 + spiny(s2)**2 + spinz(s2)**2\n",
    "print(S2)"
   ]
  },
  {
   "cell_type": "markdown",
   "metadata": {},
   "source": [
    "The S2 here is 3.75 along the identity. This is not the same as the S2 operator for s=2. But they are both on the identity! This proportionality follows S^2  + S"
   ]
  },
  {
   "cell_type": "code",
   "execution_count": 8,
   "metadata": {},
   "outputs": [
    {
     "name": "stdout",
     "output_type": "stream",
     "text": [
      "[[0.25 0.  ]\n",
      " [0.   0.25]]\n",
      "[[0.25+0.j 0.  +0.j]\n",
      " [0.  +0.j 0.25+0.j]]\n",
      "[[0.25 0.  ]\n",
      " [0.   0.25]]\n"
     ]
    }
   ],
   "source": [
    "s3 = 1/2\n",
    "print(spinx(s3)**2)\n",
    "print(spiny(s3)**2)\n",
    "print(spinz(s3)**2)"
   ]
  },
  {
   "cell_type": "markdown",
   "metadata": {},
   "source": [
    "They are all 1/4 I for s=1/2, but for other s..."
   ]
  },
  {
   "cell_type": "code",
   "execution_count": 9,
   "metadata": {},
   "outputs": [
    {
     "name": "stdout",
     "output_type": "stream",
     "text": [
      "[[0.5 0.  0.5]\n",
      " [0.  1.  0. ]\n",
      " [0.5 0.  0.5]]\n",
      "[[ 0.5+0.j  0. +0.j -0.5+0.j]\n",
      " [ 0. +0.j  1. +0.j  0. +0.j]\n",
      " [-0.5+0.j  0. +0.j  0.5+0.j]]\n",
      "[[1. 0. 0.]\n",
      " [0. 0. 0.]\n",
      " [0. 0. 1.]]\n"
     ]
    }
   ],
   "source": [
    "s4 = 1\n",
    "print(spinx(s4)**2)\n",
    "print(spiny(s4)**2)\n",
    "print(spinz(s4)**2)"
   ]
  },
  {
   "cell_type": "markdown",
   "metadata": {},
   "source": [
    "They are not the same! The pattern is very different."
   ]
  },
  {
   "cell_type": "markdown",
   "metadata": {},
   "source": [
    "# --------------------------------------------------"
   ]
  },
  {
   "cell_type": "code",
   "execution_count": 10,
   "metadata": {},
   "outputs": [
    {
     "name": "stdout",
     "output_type": "stream",
     "text": [
      "[[1.]\n",
      " [0.]\n",
      " [0.]\n",
      " [0.]]\n",
      "[[0.]\n",
      " [1.]\n",
      " [0.]\n",
      " [0.]]\n",
      "[[0.]\n",
      " [0.]\n",
      " [1.]\n",
      " [0.]]\n",
      "[[0.]\n",
      " [0.]\n",
      " [0.]\n",
      " [1.]]\n"
     ]
    }
   ],
   "source": [
    "u1 = array([1.0,0.0])\n",
    "u1.shape = (2,1)\n",
    "u2 = array([0.0,1.0])\n",
    "u2.shape = (2,1)\n",
    "\n",
    "print(np.kron(u1,u1))\n",
    "print(np.kron(u1,u2))\n",
    "print(np.kron(u2,u1))\n",
    "print(np.kron(u2,u2))\n",
    "p1 = np.kron(u1,u1)\n",
    "p2 = np.kron(u1,u2)\n",
    "p3 = np.kron(u2,u1)\n",
    "p4 = np.kron(u2,u2)"
   ]
  },
  {
   "cell_type": "markdown",
   "metadata": {},
   "source": [
    "order matters!"
   ]
  },
  {
   "cell_type": "code",
   "execution_count": 11,
   "metadata": {},
   "outputs": [
    {
     "data": {
      "text/plain": [
       "matrix([[ 1.,  0.,  0.,  0.],\n",
       "        [ 0.,  0.,  0.,  0.],\n",
       "        [ 0.,  0.,  0.,  0.],\n",
       "        [ 0.,  0.,  0., -1.]])"
      ]
     },
     "execution_count": 11,
     "metadata": {},
     "output_type": "execute_result"
    }
   ],
   "source": [
    "so = eye(2)\n",
    "s5 = 0.5\n",
    "Sz = kron(spinz(s5),so)+kron(so,spinz(s5))\n",
    "Sz"
   ]
  },
  {
   "cell_type": "code",
   "execution_count": 12,
   "metadata": {},
   "outputs": [
    {
     "name": "stdout",
     "output_type": "stream",
     "text": [
      "1.0\n",
      "0.0\n",
      "0.0\n",
      "-1.0\n"
     ]
    }
   ],
   "source": [
    "print(asscalar(dot(conj(p1.transpose()),Sz*p1)))\n",
    "print(asscalar(dot(conj(p2.transpose()),Sz*p2)))\n",
    "print(asscalar(dot(conj(p3.transpose()),Sz*p3)))\n",
    "print(asscalar(dot(conj(p4.transpose()),Sz*p4)))"
   ]
  },
  {
   "cell_type": "code",
   "execution_count": 13,
   "metadata": {},
   "outputs": [
    {
     "data": {
      "text/plain": [
       "matrix([[1., 0., 0., 0.],\n",
       "        [0., 0., 1., 0.],\n",
       "        [0., 1., 0., 0.],\n",
       "        [0., 0., 0., 1.]])"
      ]
     },
     "execution_count": 13,
     "metadata": {},
     "output_type": "execute_result"
    }
   ],
   "source": [
    "Pi = matrix(zeros((4,4)))\n",
    "Pi[0,0] = 1\n",
    "Pi[3,3] = 1\n",
    "Pi[1,2] = 1\n",
    "Pi[2,1] = 1\n",
    "Pi"
   ]
  },
  {
   "cell_type": "code",
   "execution_count": 14,
   "metadata": {},
   "outputs": [
    {
     "data": {
      "text/plain": [
       "matrix([[1., 0., 0., 0.],\n",
       "        [0., 1., 0., 0.],\n",
       "        [0., 0., 1., 0.],\n",
       "        [0., 0., 0., 1.]])"
      ]
     },
     "execution_count": 14,
     "metadata": {},
     "output_type": "execute_result"
    }
   ],
   "source": [
    "Pi**2"
   ]
  },
  {
   "cell_type": "markdown",
   "metadata": {},
   "source": [
    "This is the identity matrix!"
   ]
  },
  {
   "cell_type": "code",
   "execution_count": 15,
   "metadata": {},
   "outputs": [
    {
     "data": {
      "text/plain": [
       "(array([-1.,  1.,  1.,  1.]),\n",
       " matrix([[ 0.        ,  0.        ,  1.        ,  0.        ],\n",
       "         [-0.70710678,  0.70710678,  0.        ,  0.        ],\n",
       "         [ 0.70710678,  0.70710678,  0.        ,  0.        ],\n",
       "         [ 0.        ,  0.        ,  0.        ,  1.        ]]))"
      ]
     },
     "execution_count": 15,
     "metadata": {},
     "output_type": "execute_result"
    }
   ],
   "source": [
    "eigh(Pi)"
   ]
  },
  {
   "cell_type": "markdown",
   "metadata": {},
   "source": [
    "Eigenstates of Pi:\n",
    "\n",
    "-1 (0 |+>|+> - 1/sqrt(2) |+>|-> + 1/sqrt(2) |->|+> + 0 |->|->)\n",
    "\n",
    "1 (0 |+>|+> + 1/sqrt(2) |+>|-> + 1/sqrt(2) |->|+> + 0 |->|->)\n",
    "\n",
    "1 ( |+>|+> + 0 |+>|-> + 0 |->|+> + 0 |->|->)\n",
    "\n",
    "1 (0 |+>|+> + 0 |+>|-> + 0 |->|+> + |->|->)\n",
    "\n",
    "wow!"
   ]
  },
  {
   "cell_type": "code",
   "execution_count": 16,
   "metadata": {},
   "outputs": [],
   "source": [
    "s = 0.5\n",
    "Sx = np.kron(spinx(s),so)+np.kron(so,spinx(s))\n",
    "Sy = np.kron(spiny(s),so)+np.kron(so,spiny(s))\n",
    "Sz = np.kron(spinz(s),so)+np.kron(so,spinz(s))"
   ]
  },
  {
   "cell_type": "code",
   "execution_count": 17,
   "metadata": {},
   "outputs": [
    {
     "name": "stdout",
     "output_type": "stream",
     "text": [
      "[[2.+0.j 0.+0.j 0.+0.j 0.+0.j]\n",
      " [0.+0.j 1.+0.j 1.+0.j 0.+0.j]\n",
      " [0.+0.j 1.+0.j 1.+0.j 0.+0.j]\n",
      " [0.+0.j 0.+0.j 0.+0.j 2.+0.j]]\n",
      "(array([0., 2., 2., 2.]), matrix([[ 0.        +0.j,  0.        +0.j,  1.        +0.j,\n",
      "          0.        +0.j],\n",
      "        [-0.70710678+0.j,  0.70710678+0.j,  0.        +0.j,\n",
      "          0.        +0.j],\n",
      "        [ 0.70710678+0.j,  0.70710678+0.j,  0.        +0.j,\n",
      "          0.        +0.j],\n",
      "        [ 0.        +0.j,  0.        +0.j,  0.        +0.j,\n",
      "          1.        +0.j]]))\n"
     ]
    }
   ],
   "source": [
    "S2 = Sx**2 + Sy**2 + Sz**2\n",
    "print(S2)\n",
    "print(eigh(S2))"
   ]
  },
  {
   "cell_type": "markdown",
   "metadata": {},
   "source": [
    "The eigenvalues for S2 for s=1/2 are 0,2,2,2. This means that s is nondefinite, s=-2,1\n",
    "\n",
    "The eigenvectors of S2 are the same as Pi!!!!\n",
    "\n",
    "The two singlets differ in that for the first, there is a balance in the probability in finding the states |+>|-> and |->|+>, whereas in the second singlet they both have an equal probability of being observed."
   ]
  },
  {
   "cell_type": "code",
   "execution_count": 18,
   "metadata": {},
   "outputs": [
    {
     "name": "stdout",
     "output_type": "stream",
     "text": [
      "[[ 0.5  0.   0.   0. ]\n",
      " [ 0.   0.5  0.   0. ]\n",
      " [ 0.   0.  -0.5 -0. ]\n",
      " [ 0.   0.  -0.  -0.5]] \n",
      " [[ 0.5  0.   0.   0. ]\n",
      " [ 0.  -0.5  0.  -0. ]\n",
      " [ 0.   0.   0.5  0. ]\n",
      " [ 0.  -0.   0.  -0.5]] \n",
      "\n",
      " [[ 0.25  0.    0.    0.  ]\n",
      " [ 0.   -0.25  0.   -0.  ]\n",
      " [ 0.    0.   -0.25 -0.  ]\n",
      " [ 0.   -0.   -0.    0.25]]\n"
     ]
    }
   ],
   "source": [
    "Sz1 = np.kron(spinz(s),so)\n",
    "Sz2 = np.kron(so,spinz(s))\n",
    "SzSz = np.kron(spinz(s),spinz(s))\n",
    "print(Sz1,\"\\n\",Sz2,\"\\n\\n\",SzSz)"
   ]
  },
  {
   "cell_type": "code",
   "execution_count": 19,
   "metadata": {},
   "outputs": [
    {
     "name": "stdout",
     "output_type": "stream",
     "text": [
      "[[1.]\n",
      " [0.]\n",
      " [0.]\n",
      " [0.]]\n",
      "[[ 0.        ]\n",
      " [ 0.70710678]\n",
      " [-0.70710678]\n",
      " [ 0.        ]]\n",
      "[[0.        ]\n",
      " [0.70710678]\n",
      " [0.70710678]\n",
      " [0.        ]]\n",
      "[[0.]\n",
      " [0.]\n",
      " [0.]\n",
      " [1.]]\n"
     ]
    }
   ],
   "source": [
    "a = p1\n",
    "print(a)\n",
    "b = (1/np.sqrt(2))*(p2-p3)\n",
    "print(b)\n",
    "c = (1/np.sqrt(2))*(p2+p3)\n",
    "print(c)\n",
    "d = p4\n",
    "print(p4)"
   ]
  },
  {
   "cell_type": "markdown",
   "metadata": {},
   "source": [
    "# a"
   ]
  },
  {
   "cell_type": "code",
   "execution_count": 20,
   "metadata": {},
   "outputs": [
    {
     "name": "stdout",
     "output_type": "stream",
     "text": [
      "0.5\n",
      "0.5\n",
      "0.25\n"
     ]
    }
   ],
   "source": [
    "print(asscalar(dot(conj(a.transpose()),Sz1*a)))\n",
    "print(asscalar(dot(conj(a.transpose()),Sz2*a)))\n",
    "print(asscalar(dot(conj(a.transpose()),SzSz*a)))"
   ]
  },
  {
   "cell_type": "markdown",
   "metadata": {},
   "source": [
    "# b"
   ]
  },
  {
   "cell_type": "code",
   "execution_count": 21,
   "metadata": {},
   "outputs": [
    {
     "name": "stdout",
     "output_type": "stream",
     "text": [
      "0.0\n",
      "0.0\n",
      "-0.24999999999999994\n"
     ]
    }
   ],
   "source": [
    "print(asscalar(dot(conj(b.transpose()),Sz1*b)))\n",
    "print(asscalar(dot(conj(b.transpose()),Sz2*b)))\n",
    "print(asscalar(dot(conj(b.transpose()),SzSz*b)))"
   ]
  },
  {
   "cell_type": "markdown",
   "metadata": {},
   "source": [
    "# c"
   ]
  },
  {
   "cell_type": "code",
   "execution_count": 22,
   "metadata": {},
   "outputs": [
    {
     "name": "stdout",
     "output_type": "stream",
     "text": [
      "0.0\n",
      "0.0\n",
      "-0.24999999999999994\n"
     ]
    }
   ],
   "source": [
    "print(asscalar(dot(conj(c.transpose()),Sz1*c)))\n",
    "print(asscalar(dot(conj(c.transpose()),Sz2*c)))\n",
    "print(asscalar(dot(conj(c.transpose()),SzSz*c)))"
   ]
  },
  {
   "cell_type": "markdown",
   "metadata": {},
   "source": [
    "# D"
   ]
  },
  {
   "cell_type": "code",
   "execution_count": 23,
   "metadata": {},
   "outputs": [
    {
     "name": "stdout",
     "output_type": "stream",
     "text": [
      "-0.5\n",
      "-0.5\n",
      "0.25\n"
     ]
    }
   ],
   "source": [
    "print(asscalar(dot(conj(d.transpose()),Sz1*d)))\n",
    "print(asscalar(dot(conj(d.transpose()),Sz2*d)))\n",
    "print(asscalar(dot(conj(d.transpose()),SzSz*d)))"
   ]
  },
  {
   "cell_type": "markdown",
   "metadata": {},
   "source": [
    "They don't really seem entangled. I don't know how to tell though"
   ]
  }
 ],
 "metadata": {
  "kernelspec": {
   "display_name": "Python 3",
   "language": "python",
   "name": "python3"
  },
  "language_info": {
   "codemirror_mode": {
    "name": "ipython",
    "version": 3
   },
   "file_extension": ".py",
   "mimetype": "text/x-python",
   "name": "python",
   "nbconvert_exporter": "python",
   "pygments_lexer": "ipython3",
   "version": "3.6.5"
  }
 },
 "nbformat": 4,
 "nbformat_minor": 4
}
