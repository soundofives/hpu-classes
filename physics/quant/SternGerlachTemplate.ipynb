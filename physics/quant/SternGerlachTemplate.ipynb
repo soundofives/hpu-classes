{
 "cells": [
  {
   "cell_type": "markdown",
   "metadata": {},
   "source": [
    "# Spin Analyzer Lab (Stern-Gerlach Experiment)"
   ]
  },
  {
   "cell_type": "markdown",
   "metadata": {},
   "source": [
    "Some basic functions and definitions... nothing to see here. "
   ]
  },
  {
   "cell_type": "code",
   "execution_count": 1,
   "metadata": {},
   "outputs": [],
   "source": [
    "from pylab import *"
   ]
  },
  {
   "cell_type": "code",
   "execution_count": 104,
   "metadata": {},
   "outputs": [],
   "source": [
    "def newstate(n):\n",
    "    #random coefficients\n",
    "    v = zeros(n,dtype='complex')\n",
    "    for i in range(0,n):\n",
    "        r = rand()\n",
    "        phi = 2*pi*rand()\n",
    "        v[i] = r*exp(-1j*phi)\n",
    "\n",
    "    v = v/sqrt(sum(abs(v[:])**2))\n",
    "    \n",
    "    return v\n",
    "\n",
    "def measure_op(v,op,n):\n",
    "    #operator\n",
    "    w,u = eigh(op)\n",
    "    \n",
    "    #overlap coefficients\n",
    "    #c = zeros(n,dtype='complex')\n",
    "    \n",
    "    for i in range(0,n):\n",
    "        c = squeeze(asarray(dot(v,conj(u))))\n",
    "        \n",
    "    #measure by selecting random number\n",
    "    r = rand()\n",
    "    \n",
    "    csum = abs(c[0])**2\n",
    "    nf = 0\n",
    "    \n",
    "    while (r>csum):\n",
    "        nf = nf + 1\n",
    "        csum = csum + abs(c[nf])**2\n",
    "        \n",
    "    vf = squeeze(asarray(u[:,nf]))\n",
    "    val = w[nf]\n",
    "    \n",
    "    return val, vf"
   ]
  },
  {
   "cell_type": "markdown",
   "metadata": {},
   "source": [
    "For simplicity, we work in units where $\\hbar = 1$. To convert to actual values, multiply all spin measurements by $\\hbar$ in your units system of choice."
   ]
  },
  {
   "cell_type": "code",
   "execution_count": 3,
   "metadata": {},
   "outputs": [],
   "source": [
    "#operators\n",
    "sz = 0.5*matrix([[1.0,0.0],[0.0,-1.0]])\n",
    "sx = 0.5*matrix([[0.0,1.0],[1.0,0.0]])\n",
    "sy = 0.5*matrix([[0.0,-1j],[1j,0.0]])"
   ]
  },
  {
   "cell_type": "markdown",
   "metadata": {},
   "source": [
    "Initialize a random (unpolarized) state by calling <b>newstate(2)</b> and feed it into a vector <b>v</b>. "
   ]
  },
  {
   "cell_type": "code",
   "execution_count": 13,
   "metadata": {},
   "outputs": [],
   "source": [
    "v = newstate(2)"
   ]
  },
  {
   "cell_type": "markdown",
   "metadata": {},
   "source": [
    "Examine the state by printing its components."
   ]
  },
  {
   "cell_type": "code",
   "execution_count": 14,
   "metadata": {
    "scrolled": true
   },
   "outputs": [
    {
     "data": {
      "text/plain": [
       "array([-0.91935689-0.37403046j,  0.00322969-0.12195778j])"
      ]
     },
     "execution_count": 14,
     "metadata": {},
     "output_type": "execute_result"
    }
   ],
   "source": [
    "#INSERT CODE\n",
    "v"
   ]
  },
  {
   "cell_type": "markdown",
   "metadata": {},
   "source": [
    "Check normalization"
   ]
  },
  {
   "cell_type": "code",
   "execution_count": 15,
   "metadata": {},
   "outputs": [
    {
     "data": {
      "text/plain": [
       "0.9999999999999999"
      ]
     },
     "execution_count": 15,
     "metadata": {},
     "output_type": "execute_result"
    }
   ],
   "source": [
    "#INSERT CODE\n",
    "abs(v[0])**2+abs(v[1])**2"
   ]
  },
  {
   "cell_type": "markdown",
   "metadata": {},
   "source": [
    "Measure $S^{z}$ by calling <b>measure_op(v,sz,2)</b>. This function should return the meausured value $\\lambda$ and the state of the system <i>after</i> the measurement $\\left|\\psi\\right\\rangle$ represented by a vector $\\vec{u}$ as $(\\lambda, \\vec{u})$."
   ]
  },
  {
   "cell_type": "code",
   "execution_count": 16,
   "metadata": {},
   "outputs": [
    {
     "data": {
      "text/plain": [
       "(0.5, array([1., 0.]))"
      ]
     },
     "execution_count": 16,
     "metadata": {},
     "output_type": "execute_result"
    }
   ],
   "source": [
    "#INSERT CODE\n",
    "measure_op(v,sz,2)"
   ]
  },
  {
   "cell_type": "markdown",
   "metadata": {},
   "source": [
    "Imagine making many identical copies of <b>v</b> and measuring $\\hat{S}^{z}$ on each one. Should we expect the same result each time? Execute the cell above until you feel sure about the answer. What happens to the state when the value changes?\n",
    "\n",
    "Write a short loop to perform this measurement a number (>10) of times <i>on the same state</i> <b>v</b>. After each measurement, print the measured value.\n",
    "\n",
    "Within the loop, when you csall <b>measure_op()</b>, you'll need to assign each of its outputs to a variable. The proper syntax is:\n",
    "\n",
    "<b>val,state = measure_op(v,sz,2)</b>"
   ]
  },
  {
   "cell_type": "markdown",
   "metadata": {},
   "source": [
    "#INSERT CODE"
   ]
  },
  {
   "cell_type": "code",
   "execution_count": 20,
   "metadata": {},
   "outputs": [],
   "source": [
    "for i in range(0,100):\n",
    "    val,state = measure_op(v,sz,2)\n",
    "    #print(val,state)"
   ]
  },
  {
   "cell_type": "markdown",
   "metadata": {},
   "source": [
    "What is the <i>expectation value</i> of $\\hat{S}^{z}$? That is, what is the <i>average</i> value $\\left\\langle \\hat{S}^{z}\\right\\rangle$? Write a short loop to compute this. You should make sure that you have chosen enough samples for the result converge. Loosely, keep increasing the number of samples until the result doesn't change appreciably."
   ]
  },
  {
   "cell_type": "code",
   "execution_count": 63,
   "metadata": {},
   "outputs": [
    {
     "name": "stdout",
     "output_type": "stream",
     "text": [
      "-0.1546\n"
     ]
    }
   ],
   "source": [
    "#INSERT CODE\n",
    "N = 10000\n",
    "valsum = 0\n",
    "for i in range(0,N):\n",
    "    val,state = measure_op(v,sz,2)\n",
    "    valsum = valsum+val\n",
    "valavg = valsum/N\n",
    "print(valavg)"
   ]
  },
  {
   "cell_type": "markdown",
   "metadata": {},
   "source": [
    "Note that each instance of a measurement returns a <i>random</i> result. The probability of each possible outcome is weighted, but a given measurement's outcome is unpredictable except for very specific states with respect to a given operator (eigenstates). We'll see in class that from the state vector, you can directly compute this expectation value.\n",
    "\n",
    "Calculate $0.5\\times\\left(|v[0]|^{2}-|v[1]|^{2}\\right)$. How does it compare to your numerical estimate of the expectation value?"
   ]
  },
  {
   "cell_type": "code",
   "execution_count": 64,
   "metadata": {},
   "outputs": [
    {
     "data": {
      "text/plain": [
       "-0.15494336601359202"
      ]
     },
     "execution_count": 64,
     "metadata": {},
     "output_type": "execute_result"
    }
   ],
   "source": [
    "#INSERT CODE\n",
    "z = 0.5 * (abs(v[0])**2 - abs(v[1])**2)\n",
    "z"
   ]
  },
  {
   "cell_type": "markdown",
   "metadata": {},
   "source": [
    "Wow! That's pretty similar! Much easier than a loop."
   ]
  },
  {
   "cell_type": "markdown",
   "metadata": {},
   "source": [
    "If we let $v[0]\\rightarrow\\alpha$ and $v[1]\\rightarrow\\beta$, some magic formulas we'll derive later are:\n",
    "\n",
    "$$ \\begin{array}{ccc}\\left\\langle \\hat{S}^{x}\\right\\rangle & = & \\frac{1}{2}\\left(\\alpha^{*}\\beta + \\beta^{*}\\alpha\\right),\\\\\n",
    "\\left\\langle \\hat{S}^{y}\\right\\rangle & = & \\frac{-i}{2}\\left(\\alpha^{*}\\beta - \\beta^{*}\\alpha\\right),\\\\\n",
    "\\left\\langle \\hat{S}^{z}\\right\\rangle & = & \\frac{1}{2}\\left(|\\alpha|^{2} - |\\beta|^{2}\\right).\\end{array}$$\n"
   ]
  },
  {
   "cell_type": "markdown",
   "metadata": {},
   "source": [
    "Compute the two expressions you haven't already examined and calculate an average as before for each."
   ]
  },
  {
   "cell_type": "code",
   "execution_count": 48,
   "metadata": {},
   "outputs": [
    {
     "data": {
      "text/plain": [
       "1.0"
      ]
     },
     "execution_count": 48,
     "metadata": {},
     "output_type": "execute_result"
    }
   ],
   "source": [
    "np.imag(1j)"
   ]
  },
  {
   "cell_type": "code",
   "execution_count": 61,
   "metadata": {},
   "outputs": [
    {
     "name": "stdout",
     "output_type": "stream",
     "text": [
      "0.3635\n"
     ]
    }
   ],
   "source": [
    "#INSERT CODE\n",
    "N = 10000\n",
    "valsum = 0\n",
    "for i in range(0,N):\n",
    "    val,state = measure_op(v,sx,2)\n",
    "    valsum = valsum+val\n",
    "valavg = valsum/N\n",
    "print(valavg)"
   ]
  },
  {
   "cell_type": "code",
   "execution_count": 62,
   "metadata": {},
   "outputs": [
    {
     "name": "stdout",
     "output_type": "stream",
     "text": [
      "0.3043\n"
     ]
    }
   ],
   "source": [
    "#INSERT CODE\n",
    "N = 10000\n",
    "valsum = 0\n",
    "for i in range(0,N):\n",
    "    val,state = measure_op(v,sy,2)\n",
    "    valsum = valsum+val\n",
    "valavg = valsum/N\n",
    "print(valavg)"
   ]
  },
  {
   "cell_type": "code",
   "execution_count": 60,
   "metadata": {},
   "outputs": [
    {
     "name": "stdout",
     "output_type": "stream",
     "text": [
      "(0.3670745677117643+0j)\n",
      "(0.3020741880194324-0j)\n"
     ]
    }
   ],
   "source": [
    "#INSERT CODE\n",
    "x = 0.5 * ( conj(v[0])*v[1] + conj(v[1])*v[0] )\n",
    "print(x)\n",
    "y = (-0.5j) * (conj(v[0])*v[1] - conj(v[1])*v[0])\n",
    "print(y)"
   ]
  },
  {
   "cell_type": "markdown",
   "metadata": {},
   "source": [
    "# 1. STERN-GERLACH EXPERIMENT (BASIC VERSION)"
   ]
  },
  {
   "cell_type": "markdown",
   "metadata": {},
   "source": [
    "In the most basic form of the Stern-Gerlach experiment, we observe a basic component of \"quantum weirdness.\" Imagine passing a beam of unpolarized spins through an analyzer is able to filter spin up $\\left|+\\right\\rangle$ from spin down $\\left|-\\right\\rangle$ along a given axis. This is the quantum analog of a simple polarizing film (like sunglasses). Since the beam is unpolarized, choosing any axis should filter out about half of the spins in each component.\n",
    "\n",
    "To create such a beam, we'll need to initialize a large number of \"random\" spin states. Write a short script to create a large number of random states and measure $\\hat{S}^{z}$. Keep track of how many of each state the measurement finds. For now you can discard the information about the state vectors produced by the measurement. Make sure the number of spins created is large enough to create a sensible distribution (note: about half of the intensity in a beam of unpolarized light will make it through a polarizer with any orientation)."
   ]
  },
  {
   "cell_type": "code",
   "execution_count": 54,
   "metadata": {},
   "outputs": [
    {
     "name": "stdout",
     "output_type": "stream",
     "text": [
      "The beam produced 5012 |+> states and 4988 |-> states.\n"
     ]
    }
   ],
   "source": [
    "#SAMPLE:\n",
    "N = 10000\n",
    "\n",
    "Nup = 0\n",
    "Ndown = 0\n",
    "\n",
    "for i in range(0,N):\n",
    "    v = newstate(2)\n",
    "    s,state = measure_op(v,sz,2)\n",
    "    \n",
    "    if s>0:\n",
    "        Nup = Nup + 1\n",
    "    else:\n",
    "        Ndown = Ndown +1\n",
    "        \n",
    "print('The beam produced ' + str(Nup) + ' |+> states and ' + str(Ndown) + ' |-> states.')"
   ]
  },
  {
   "cell_type": "markdown",
   "metadata": {},
   "source": [
    "Copy the block of code and select the $\\left|+\\right\\rangle$ spins for further analysis. Measure $\\hat{S}^{z}$ <i>again</i> to confirm that these spins have a well-defined component of spin along this axis.\n",
    "\n",
    "To accomplish this, you'll need to insert a new conditional statement after the spin is initially measured and feed the output state of the first measurement into the next call to the measurement function."
   ]
  },
  {
   "cell_type": "code",
   "execution_count": 67,
   "metadata": {},
   "outputs": [
    {
     "name": "stdout",
     "output_type": "stream",
     "text": [
      "The beam produced 4969 |+> states and 5031 |-> states.\n",
      "4969\n"
     ]
    }
   ],
   "source": [
    "#INSERT CODE\n",
    "#SAMPLE:\n",
    "N = 10000\n",
    "\n",
    "Nup = 0\n",
    "Nup2 = 0\n",
    "Ndown = 0\n",
    "\n",
    "for i in range(0,N):\n",
    "    v = newstate(2)\n",
    "    s,state = measure_op(v,sz,2)\n",
    "    \n",
    "    if s>0:\n",
    "        Nup = Nup + 1\n",
    "        k,state2 = measure_op(state,sz,2)\n",
    "        if k>0:\n",
    "            Nup2 = Nup2 +1\n",
    "    else:\n",
    "        Ndown = Ndown +1\n",
    "        \n",
    "print('The beam produced ' + str(Nup) + ' |+> states and ' + str(Ndown) + ' |-> states.')\n",
    "print(Nup2)"
   ]
  },
  {
   "cell_type": "markdown",
   "metadata": {},
   "source": [
    "Now we are going to repeat the experiment but with an additional measurement. After selecting the $\\left|+\\right\\rangle$ spins but <i>before</i> confirming the measurement of $\\hat{S}^{z}$, we are going to measure $\\hat{S}^{x}$ and select only those spins with $S^{x} = + \\frac{1}{2}$ for further analysis. Classically, this is just a subset of the spins we have already analyzed (twice). To accomplish this, we will need to add yet another conditional statement and only select those, $\\left|+\\right\\rangle_{x}$, for the second measurement of $S^{z}$. \n",
    "\n",
    "It is <b>critical</b> to note that we will feed the state returned by the measurement into the next measurement. It is probably simplest to convert the second measurement of $\\hat{S}^{z}$ into a measurement of $\\hat{S}^{x}$ and then insert an additional measurement of $\\hat{S}^{z}$ for those states satisfying $S^{x}>0$ (all of which were previously selected for also having $S^{z}>0$. \n"
   ]
  },
  {
   "cell_type": "code",
   "execution_count": 68,
   "metadata": {},
   "outputs": [
    {
     "name": "stdout",
     "output_type": "stream",
     "text": [
      "The beam produced 4960 |+> states and 5040 |-> states.\n",
      "Of the 2432 states with Sx>0, a second measurement revealed 1202 |+> states and 1230 |-> states.\n"
     ]
    }
   ],
   "source": [
    "N = 10000\n",
    "\n",
    "Nup = 0\n",
    "Ndown = 0\n",
    "\n",
    "Nxup = 0\n",
    "Nxdown = 0\n",
    "\n",
    "Nup2 = 0\n",
    "Ndown2 = 0\n",
    "\n",
    "for i in range(0,N):\n",
    "    v = newstate(2)\n",
    "    s,state = measure_op(v,sz,2)\n",
    "    \n",
    "    if s>0:\n",
    "        Nup = Nup + 1\n",
    "        s2,state2 = measure_op(state,sx,2)\n",
    "        if s2>0:\n",
    "            Nxup = Nxup + 1\n",
    "            s3,state3 = measure_op(state2,sz,2)\n",
    "            if s3>0:\n",
    "                Nup2 = Nup2 + 1\n",
    "            else:\n",
    "                Ndown2 = Ndown2 + 1\n",
    "        else:\n",
    "            Nxdown = Nxdown + 1\n",
    "    else:\n",
    "        Ndown = Ndown +1\n",
    "        \n",
    "print('The beam produced ' + str(Nup) + ' |+> states and ' + str(Ndown) + ' |-> states.')\n",
    "print('Of the ' + str(Nxup) + ' states with Sx>0, a second measurement revealed ' + str(Nup2) + ' |+> states and ' + str(Ndown2) + ' |-> states.')\n",
    "\n"
   ]
  },
  {
   "cell_type": "markdown",
   "metadata": {},
   "source": [
    "If programed correctly, you should find a very curious result. The first \"filtering\" selected about half of the initial states which had $S^{z} = +\\frac{1}{2}$. We then measured $\\hat{S}^{x}$, finding approximately a 50/50 split (of the first half) between $S^{x} = \\frac{1}{2}$ and $S^{x} = -\\frac{1}{2}$. It should be <b>strongly emphasized</b> that the $z$ component for all of these spins was just measured and determined to be $\\frac{1}{2}$.\n",
    "\n",
    "Now taking only the subset with $S^{x}>0$ (about a quarter of the initial total), we again measure $S^{z}$. Just as you're probably wondering why we're going through all of this hassle to confirm (yet again) something we already \"know,\" something interesting happens: only half the spins in this sample <i>still</i> have $S^{z}=\\frac{1}{2}$. Somehow, the measurement of $\\hat{S}^{x}$ changed the state of $\\hat{S}^{z}$.\n",
    "\n",
    "We only looked again at those (supposedly \"up\") spins returning $S^{x}>0$. What type of distribution in $S^{z}$ values would you expect to find for those with $S^{x}<0$? Copy the above block of code and make the appropriate changes to investigate the $z$ component of spins with $S^{x}<0$.\n",
    "\n",
    "Subtle point (that you might or might not be thinking about): you'll have to <i>repeat</i> the experiment by creating a new set of initial spins. Maybe re-run the initial block enough times to convince yourself that this result is rigid (i.e., the distribution you found above doesn't change for another batch of unpolarized spins except for small statistical fluctuations)."
   ]
  },
  {
   "cell_type": "code",
   "execution_count": 71,
   "metadata": {},
   "outputs": [
    {
     "name": "stdout",
     "output_type": "stream",
     "text": [
      "The beam produced 5035 |+> states and 4965 |-> states.\n",
      "Of the 2577 states with Sx<0, a second measurement revealed 1287 |+> states and 1290 |-> states.\n"
     ]
    }
   ],
   "source": [
    "N = 10000\n",
    "\n",
    "Nup = 0\n",
    "Ndown = 0\n",
    "\n",
    "Nxup = 0\n",
    "Nxdown = 0\n",
    "\n",
    "Nup2 = 0\n",
    "Ndown2 = 0\n",
    "\n",
    "for i in range(0,N):\n",
    "    v = newstate(2)\n",
    "    s,state = measure_op(v,sz,2)\n",
    "    \n",
    "    if s>0:\n",
    "        Nup = Nup + 1\n",
    "        s2,state2 = measure_op(state,sx,2)\n",
    "        if s2>0:\n",
    "            Nxup = Nxup + 1\n",
    "        else:\n",
    "            Nxdown = Nxdown + 1\n",
    "            s3,state3 = measure_op(state2,sz,2)\n",
    "            if s3>0:\n",
    "                Nup2 = Nup2 + 1\n",
    "            else:\n",
    "                Ndown2 = Ndown2 + 1\n",
    "    else:\n",
    "        Ndown = Ndown +1\n",
    "        \n",
    "print('The beam produced ' + str(Nup) + ' |+> states and ' + str(Ndown) + ' |-> states.')\n",
    "print('Of the ' + str(Nxdown) + ' states with Sx<0, a second measurement revealed ' + str(Nup2) + ' |+> states and ' + str(Ndown2) + ' |-> states.')\n",
    "\n"
   ]
  },
  {
   "cell_type": "code",
   "execution_count": null,
   "metadata": {},
   "outputs": [],
   "source": [
    "N = 10000\n",
    "\n",
    "Nup = 0\n",
    "Ndown = 0\n",
    "\n",
    "Nxup = 0\n",
    "Nxdown = 0\n",
    "\n",
    "Nup2 = 0\n",
    "Ndown2 = 0\n",
    "\n",
    "for i in range(0,N):\n",
    "    v = newstate(2)\n",
    "    s,state = measure_op(v,sz,2)\n",
    "    \n",
    "    if s>0:\n",
    "        Nup = Nup + 1\n",
    "        s2,state2 = measure_op(state,sx,2)\n",
    "        if s2>0:\n",
    "            Nxup = Nxup + 1\n",
    "        else:\n",
    "            Nxdown = Nxdown + 1\n",
    "            s3,state3 = measure_op(state2,sz,2)\n",
    "            if s3>0:\n",
    "                Nup2 = Nup2 + 1\n",
    "            else:\n",
    "                Ndown2 = Ndown2 + 1\n",
    "    else:\n",
    "        Ndown = Ndown +1\n",
    "        \n",
    "print('The beam produced ' + str(Nup) + ' |+> states and ' + str(Ndown) + ' |-> states.')\n",
    "print('')\n",
    "print('Of the ' + str(Nxup) + ' states with Sx<0, a second measurement revealed ' + str(Nup2) + ' |+> states and ' + str(Ndown2) + ' |-> states.')\n",
    "\n"
   ]
  },
  {
   "cell_type": "markdown",
   "metadata": {},
   "source": [
    "## Questions to answer: \n",
    "\n",
    "Make an initial guess (or state the answer, if you feel confident) and support your answer by modifying the simulation above to model each scenario."
   ]
  },
  {
   "cell_type": "markdown",
   "metadata": {},
   "source": [
    "(1) Suppose you began with 100000 unpolarized (\"randomly oriented\") spins. What fraction of the initial spins would return a measurement of $S^{z} = +\\frac{1}{2}$ after the first measurement of $\\hat{S}^{z}$?\n"
   ]
  },
  {
   "cell_type": "markdown",
   "metadata": {},
   "source": [
    "1/2!"
   ]
  },
  {
   "cell_type": "code",
   "execution_count": 74,
   "metadata": {},
   "outputs": [
    {
     "name": "stdout",
     "output_type": "stream",
     "text": [
      "0.4902\n"
     ]
    }
   ],
   "source": [
    "#INSERT CODE\n",
    "N = 10000\n",
    "\n",
    "Nup = 0\n",
    "Ndown = 0\n",
    "\n",
    "Nxup = 0\n",
    "Nxdown = 0\n",
    "\n",
    "Nup2 = 0\n",
    "Ndown2 = 0\n",
    "\n",
    "for i in range(0,N):\n",
    "    v = newstate(2)\n",
    "    s,state = measure_op(v,sz,2)\n",
    "    \n",
    "    if s>0:\n",
    "        Nup = Nup + 1\n",
    "    else:\n",
    "        Ndown = Ndown +1\n",
    "        \n",
    "print(Nup/N)\n"
   ]
  },
  {
   "cell_type": "markdown",
   "metadata": {},
   "source": [
    "(2) If $\\hat{S}^{z}$ was measured for the $\\left|+\\right\\rangle$ spins again, <i>immediately</i> after the first measurement, how many spins would have $S^{z}=+\\frac{1}{2}$?\n"
   ]
  },
  {
   "cell_type": "markdown",
   "metadata": {},
   "source": [
    "all!"
   ]
  },
  {
   "cell_type": "code",
   "execution_count": 75,
   "metadata": {},
   "outputs": [
    {
     "name": "stdout",
     "output_type": "stream",
     "text": [
      "0.4948 0.4948\n"
     ]
    }
   ],
   "source": [
    "#INSERT CODE\n",
    "#INSERT CODE\n",
    "N = 10000\n",
    "\n",
    "Nup = 0\n",
    "Ndown = 0\n",
    "\n",
    "Nxup = 0\n",
    "Nxdown = 0\n",
    "\n",
    "Nup2 = 0\n",
    "Ndown2 = 0\n",
    "\n",
    "for i in range(0,N):\n",
    "    v = newstate(2)\n",
    "    s,state = measure_op(v,sz,2)\n",
    "    \n",
    "    if s>0:\n",
    "        Nup = Nup + 1\n",
    "        s2,state2 = measure_op(state,sz,2)\n",
    "        if s2>0:\n",
    "            Nup2 = Nup2 +1\n",
    "    else:\n",
    "        Ndown = Ndown +1\n",
    "        \n",
    "print(Nup/N, Nup2/N)\n"
   ]
  },
  {
   "cell_type": "markdown",
   "metadata": {},
   "source": [
    "(3) Suppose only a single measurement of $\\hat{S}^{z}$ is performed, and only those spins with $S^{z}$ are selected for further analysis (how many spins does this leave?). The operator $\\hat{S}^{x}$ is then measured, and only those spins with $S^{x} =\\frac{1}{2}$ are selected. These spins are then passed through another analyzer which measures $\\hat{S}^{z}$. How many spins (of the subset with $S^{x} = \\frac{1}{2}$) now have $S^{z}= \\frac{1}{2}$? $S^{z} = -\\frac{1}{2}$?"
   ]
  },
  {
   "cell_type": "markdown",
   "metadata": {},
   "source": [
    "after 1st measurement, 5000 are left!\n",
    "after 2nd, 2500,\n",
    "after 3rd, there is 50 50 between sz+ and sz-!\n"
   ]
  },
  {
   "cell_type": "code",
   "execution_count": 79,
   "metadata": {},
   "outputs": [
    {
     "name": "stdout",
     "output_type": "stream",
     "text": [
      "The beam produced 5009 |+> states and 4991 |-> states.\n",
      "Of the 2419 states with Sx>0, a second measurement revealed 1205 |+> states and 1214 |-> states.\n"
     ]
    }
   ],
   "source": [
    "#INSERT CODE\n",
    "N = 10000\n",
    "\n",
    "Nup = 0\n",
    "Ndown = 0\n",
    "\n",
    "Nxup = 0\n",
    "Nxdown = 0\n",
    "\n",
    "Nup2 = 0\n",
    "Ndown2 = 0\n",
    "\n",
    "for i in range(0,N):\n",
    "    v = newstate(2)\n",
    "    s,state = measure_op(v,sz,2)\n",
    "    \n",
    "    if s>0:\n",
    "        Nup = Nup + 1\n",
    "    else:\n",
    "        Ndown = Ndown +1\n",
    "        s2,state2 = measure_op(state,sx,2)\n",
    "        if s2>0:\n",
    "            Nxup = Nxup + 1\n",
    "            s3,state3 = measure_op(state2,sz,2)\n",
    "            if s3>0:\n",
    "                Nup2 = Nup2 + 1\n",
    "            else:\n",
    "                Ndown2 = Ndown2 + 1\n",
    "        else:\n",
    "            Nxdown = Nxdown + 1\n",
    "        \n",
    "print('The beam produced ' + str(Nup) + ' |+> states and ' + str(Ndown) + ' |-> states.')\n",
    "print('Of the ' + str(Nxup) + ' states with Sx>0, a second measurement revealed ' + str(Nup2) + ' |+> states and ' + str(Ndown2) + ' |-> states.')\n",
    "\n"
   ]
  },
  {
   "cell_type": "markdown",
   "metadata": {},
   "source": [
    "(4) For the scenario considered in (3), if an additional analyzer was inserted which measured $\\hat{S}^{x}$ a second time immediately after the first measurement, how would the number of spins with $S^{z}=\\frac{1}{2}$ at the end of the path change? "
   ]
  },
  {
   "cell_type": "markdown",
   "metadata": {},
   "source": [
    "it wouldnt!"
   ]
  },
  {
   "cell_type": "code",
   "execution_count": 82,
   "metadata": {},
   "outputs": [
    {
     "name": "stdout",
     "output_type": "stream",
     "text": [
      "The beam produced 4976 |+> states and 5024 |-> states.\n",
      "Of the 2510 states with Sx>0, (repeated for2510) a second measurement revealed 1245 |+> states and 1265 |-> states.\n"
     ]
    }
   ],
   "source": [
    "#INSERT CODE\n",
    "#INSERT CODE\n",
    "N = 10000\n",
    "\n",
    "Nup = 0\n",
    "Ndown = 0\n",
    "\n",
    "Nxup = 0\n",
    "Nxdown = 0\n",
    "\n",
    "Nup2 = 0\n",
    "Ndown2 = 0\n",
    "Nxup2 = 0\n",
    "\n",
    "for i in range(0,N):\n",
    "    v = newstate(2)\n",
    "    s,state = measure_op(v,sz,2)\n",
    "    \n",
    "    if s>0:\n",
    "        Nup = Nup + 1\n",
    "    else:\n",
    "        Ndown = Ndown +1\n",
    "        s2,state2 = measure_op(state,sx,2)\n",
    "        if s2>0:\n",
    "            Nxup = Nxup + 1\n",
    "            s2h,state2h = measure_op(state2,sx,2)\n",
    "            if s2h>0:\n",
    "                Nxup2 = Nxup2 + 1\n",
    "                s3,state3 = measure_op(state2h,sz,2)\n",
    "                if s3>0:\n",
    "                    Nup2 = Nup2 + 1\n",
    "                else:\n",
    "                    Ndown2 = Ndown2 + 1\n",
    "        else:\n",
    "            Nxdown = Nxdown + 1\n",
    "        \n",
    "print('The beam produced ' + str(Nup) + ' |+> states and ' + str(Ndown) + ' |-> states.')\n",
    "print('Of the ' + str(Nxup) + ' states with Sx>0, (repeated for' + str(Nxup2) + ') a second measurement revealed ' + str(Nup2) + ' |+> states and ' + str(Ndown2) + ' |-> states.')\n",
    "\n"
   ]
  },
  {
   "cell_type": "markdown",
   "metadata": {},
   "source": [
    "(5) For the scenario considered in (3), suppose those spins with $S^{x} = -\\frac{1}{2}$ were also run through an analyzer which measures $\\hat{S}^{z}$ a second time. This means, after initially selecting spins with $S^{z}$ from the unpolarized spins and separating those according to the value of $S^{x}$, all spins which initially had $S^{z} = \\frac{1}{2}$ are analyzed with respect to $\\hat{S}^{z}$ <i>again</i>. About how many will have $S^{z} = \\frac{1}{2}$? $S^{z} = -\\frac{1}{2}$?\n",
    "\n",
    "<i>Hint: </i>You can modify the program to accomplish this by adding more conditionals <i>or</i> by clervly removing a conditional. If spins with $S^{x}=\\frac{1}{2}$ and $S^{x}=-\\frac{1}{2}$ are to be analyzed again, do you need to check for the value of $\\hat{S}^{x}$?"
   ]
  },
  {
   "cell_type": "markdown",
   "metadata": {},
   "source": [
    "all will be sz up!"
   ]
  },
  {
   "cell_type": "code",
   "execution_count": 97,
   "metadata": {},
   "outputs": [
    {
     "name": "stdout",
     "output_type": "stream",
     "text": [
      "The beam produced 4993 |+> states and 5007 |-> states.\n",
      "Of the x states, a second measurement revealed 2532 |+> states and 2475 |-> states.\n",
      "0 0 5007\n"
     ]
    }
   ],
   "source": [
    "#INSERT CODE\n",
    "#INSERT CODE\n",
    "#INSERT CODE\n",
    "N = 10000\n",
    "\n",
    "Nup = 0\n",
    "Ndown = 0\n",
    "\n",
    "Nxup = 0\n",
    "Nxdown = 0\n",
    "\n",
    "Nup2 = 0\n",
    "Ndown2 = 0\n",
    "Nxup2 = 0\n",
    "xmes = 0\n",
    "for i in range(0,N):\n",
    "    v = newstate(2)\n",
    "    s,state = measure_op(v,sz,2)\n",
    "    \n",
    "    if s>0:\n",
    "        Nup = Nup + 1\n",
    "    else:\n",
    "        Ndown = Ndown +1\n",
    "        s2,state2 = measure_op(state,sx,2)\n",
    "        \n",
    "#         if s2>0:\n",
    "#             Nxup = Nxup + 1\n",
    "            \n",
    "#             s3,state3 = measure_op(state2,sz,2)\n",
    "#             if s3>0:\n",
    "#                 Nup2 = Nup2 + 1\n",
    "#             else:\n",
    "#                 Ndown2 = Ndown2 + 1\n",
    "            \n",
    "            \n",
    "#         else:\n",
    "#             Nxdown = Nxdown + 1    \n",
    "#             s3,state3 = measure_op(state2,sz,2)\n",
    "#             if s3>0:\n",
    "#                 Nup2 = Nup2 + 1\n",
    "#             else:\n",
    "#                 Ndown2 = Ndown2 + 1\n",
    "            \n",
    "        xmes = xmes + 1    \n",
    "        \n",
    "        s3,state3 = measure_op(state2,sz,2)\n",
    "        if s3>0:\n",
    "            Nup2 = Nup2 + 1\n",
    "        else:\n",
    "            Ndown2 = Ndown2 + 1\n",
    "\n",
    "        \n",
    "print('The beam produced ' + str(Nup) + ' |+> states and ' + str(Ndown) + ' |-> states.')\n",
    "print('Of the x states, a second measurement revealed ' + str(Nup2) + ' |+> states and ' + str(Ndown2) + ' |-> states.')\n",
    "print(Nxup,Nxdown,xmes)\n"
   ]
  },
  {
   "cell_type": "markdown",
   "metadata": {},
   "source": [
    "(6) Now let's stop filtering with respect to $\\hat{S}^{z}$ at the very beginning. We will still measure it, but instead of only keeping those with $S^{z}=\\frac{1}{2}$, we'll pass all states into the measurement of $\\hat{S}^{x}$ (and then another measurement of $\\hat{S}^{z}$. How many will end up with $S^{z}=\\frac{1}{2}$?\n",
    "\n",
    "Does your answer suggest that the \"quantum weirdness\" is resolved? That is, in this setup, if a spin is initially determined to have $S^{z}=\\frac{1}{2}$, will the second measurement of $\\hat{S}^{z}$ (which takes place <i>after</i> $\\hat{S}^{x}$ has been measured) also return $S^{z} = \\frac{1}{2}$?"
   ]
  },
  {
   "cell_type": "markdown",
   "metadata": {},
   "source": [
    "50 / 50! No, it doesn't! You didn't ever count the number of ups and downs first, so no \"change\" was made to the state. You don't know how many were initially 1/2 or -1/2."
   ]
  },
  {
   "cell_type": "code",
   "execution_count": 98,
   "metadata": {},
   "outputs": [
    {
     "name": "stdout",
     "output_type": "stream",
     "text": [
      "The beam produced 0 |+> states and 0 |-> states.\n",
      "Of the x states, a second measurement revealed 4936 |+> states and 5064 |-> states.\n",
      "0 0 10000\n"
     ]
    }
   ],
   "source": [
    "#INSERT CODE\n",
    "#INSERT CODE\n",
    "#INSERT CODE\n",
    "#INSERT CODE\n",
    "N = 10000\n",
    "\n",
    "Nup = 0\n",
    "Ndown = 0\n",
    "\n",
    "Nxup = 0\n",
    "Nxdown = 0\n",
    "\n",
    "Nup2 = 0\n",
    "Ndown2 = 0\n",
    "Nxup2 = 0\n",
    "xmes = 0\n",
    "for i in range(0,N):\n",
    "    v = newstate(2)\n",
    "    s,state = measure_op(v,sz,2)\n",
    "    \n",
    "    s2,state2 = measure_op(state,sx,2)\n",
    "\n",
    "#         if s2>0:\n",
    "#             Nxup = Nxup + 1\n",
    "\n",
    "#             s3,state3 = measure_op(state2,sz,2)\n",
    "#             if s3>0:\n",
    "#                 Nup2 = Nup2 + 1\n",
    "#             else:\n",
    "#                 Ndown2 = Ndown2 + 1\n",
    "\n",
    "\n",
    "#         else:\n",
    "#             Nxdown = Nxdown + 1    \n",
    "#             s3,state3 = measure_op(state2,sz,2)\n",
    "#             if s3>0:\n",
    "#                 Nup2 = Nup2 + 1\n",
    "#             else:\n",
    "#                 Ndown2 = Ndown2 + 1\n",
    "\n",
    "    xmes = xmes + 1    \n",
    "\n",
    "    s3,state3 = measure_op(state2,sz,2)\n",
    "    if s3>0:\n",
    "        Nup2 = Nup2 + 1\n",
    "    else:\n",
    "        Ndown2 = Ndown2 + 1\n",
    "\n",
    "        \n",
    "print('The beam produced ' + str(Nup) + ' |+> states and ' + str(Ndown) + ' |-> states.')\n",
    "print('Of the x states, a second measurement revealed ' + str(Nup2) + ' |+> states and ' + str(Ndown2) + ' |-> states.')\n",
    "print(Nxup,Nxdown,xmes)\n"
   ]
  },
  {
   "cell_type": "markdown",
   "metadata": {},
   "source": [
    "# STERN-GERLACH EXPERIMENT (BEAM RECOMBINATION)"
   ]
  },
  {
   "cell_type": "markdown",
   "metadata": {},
   "source": [
    "The McIntyre text discusses a modification of the experiment presented above in which $\\hat{S}^{x}$ is still <i>analyzed</i>, but the beams are not split. This is subtly different from what occurs in the last exercises in which we obtained measurement information but did not <i>store</i> it. As we'll see, forcing the quantum state into a well-defined value of (say) $\\hat{S}^{x}$ is what has such spooky consequences for the notion of the operator $\\hat{S}^{z}$ having a \"well-defined\" value.\n",
    "\n",
    "What we would like to do in this last exploration is to analyze $\\hat{S}^{x}$ after peeling off the subset of unpolarized spins with $S^{z} = \\frac{1}{2}$ without actually measuring $\\hat{S}^{x}$. To accomplish this, we will modify the <b>measure_op()</b> so that while it does split the state <b>v</b> into a linear superposition of $\\left|+\\right\\rangle_{x}$ and $\\left|-\\right\\rangle_{x}$, it does not <i>project</i> the state onto one of these eigenstates through a measurement that returns either $S^{x} = \\frac{1}{2}$ or $S^{x} = -\\frac{1}{2}$.\n",
    "\n",
    "To begin, make a copy of the function definition for <b>measure_op()</b> and rename it <b>analyze_op()</b>, leaving the input arguments unchanged."
   ]
  },
  {
   "cell_type": "markdown",
   "metadata": {},
   "source": [
    "Remove everything from (and including) the line \"<b>r = rand()</b>\" to (and including) \"<b>val = w[nf]</b>.\" This section performs the actual measurement and projection of the input state onto the corresponding eigenstate of the operator in question.\n",
    "\n",
    "Take out <b>val</b> from the return command so it just reads \"<b>return vf</b>.\" This will ensure that the function only returns the state after being analyzed. The remainder of the code writes the input state as a combination of eigenstates of the operator being measured (or now, analyzed). The last step is to construct <b>vf</b> in terms of the eigenstates of the operator. The following line inserted before <b>return vf</b> will do the job:\n",
    "\n",
    "<b>vf = squeeze(asarray(dot(c,u)))</b>"
   ]
  },
  {
   "cell_type": "code",
   "execution_count": 99,
   "metadata": {},
   "outputs": [],
   "source": [
    "#INSERT CODE\n",
    "def analyze_op(v,op,n):\n",
    "    #operator\n",
    "    w,u = eigh(op)\n",
    "    \n",
    "    #overlap coefficients\n",
    "    #c = zeros(n,dtype='complex')\n",
    "    \n",
    "    for i in range(0,n):\n",
    "        c = squeeze(asarray(dot(v,conj(u))))\n",
    "    \n",
    "    vf = squeeze(asarray(dot(c,u)))\n",
    "    return vf"
   ]
  },
  {
   "cell_type": "markdown",
   "metadata": {},
   "source": [
    "Now replace <b>measure_op(...,sx,...)</b> by <b>analyze_op(...,sx,...)</b> in the Stern-Gerlach experiment which takes only the states initially measured to be $\\left|+\\right\\rangle$, measures $\\hat{S}^{x}$ (now it will only <i>analyze</i> this), and then measures $\\hat{S}^{z}$ again. This process is equivalent to Experiment 4(c) in the text in which the beams are recombined after passing through an analyzer of $\\hat{S}^{x}$ without actually performing a measurement. Of the initial number of spins with $S^{z} = \\frac{1}{2}$, how many do you expect to return a value $S^{z} = -\\frac{1}{2}$?"
   ]
  },
  {
   "cell_type": "code",
   "execution_count": 100,
   "metadata": {},
   "outputs": [],
   "source": [
    "#INSERT CODE"
   ]
  },
  {
   "cell_type": "code",
   "execution_count": 109,
   "metadata": {},
   "outputs": [
    {
     "name": "stdout",
     "output_type": "stream",
     "text": [
      "The beam produced 5062 |+> states and 4938 |-> states.\n",
      "Of the 0 states with Sx>0, a second measurement revealed 0 |+> states and 4939 |-> states.\n"
     ]
    }
   ],
   "source": [
    "N = 10000\n",
    "\n",
    "Nup = 0\n",
    "Ndown = 0\n",
    "\n",
    "Nxup = 0\n",
    "Nxdown = 0\n",
    "\n",
    "Nup2 = 0\n",
    "Ndown2 = 0\n",
    "\n",
    "for i in range(0,N):\n",
    "    v = newstate(2)\n",
    "    s,state = measure_op(v,sz,2)\n",
    "    if s>0:\n",
    "        Nup = Nup +1\n",
    "    else:\n",
    "        Ndown = Ndown+1\n",
    "        state2 = analyze_op(state,sx,2)\n",
    "        s3,state3 = measure_op(state2,sz,2)\n",
    "        if s3>0:\n",
    "            Nup2 = Nup +1\n",
    "        else:\n",
    "            Ndown2 = Ndown+1\n",
    "        \n",
    "    \n",
    "print('The beam produced ' + str(Nup) + ' |+> states and ' + str(Ndown) + ' |-> states.')\n",
    "print('Of the ' + str(Nxup) + ' states with Sx>0, a second measurement revealed ' + str(Nup2) + ' |+> states and ' + str(Ndown2) + ' |-> states.')\n",
    "\n"
   ]
  },
  {
   "cell_type": "code",
   "execution_count": null,
   "metadata": {},
   "outputs": [],
   "source": []
  }
 ],
 "metadata": {
  "kernelspec": {
   "display_name": "Python 3",
   "language": "python",
   "name": "python3"
  },
  "language_info": {
   "codemirror_mode": {
    "name": "ipython",
    "version": 3
   },
   "file_extension": ".py",
   "mimetype": "text/x-python",
   "name": "python",
   "nbconvert_exporter": "python",
   "pygments_lexer": "ipython3",
   "version": "3.6.5"
  }
 },
 "nbformat": 4,
 "nbformat_minor": 4
}
