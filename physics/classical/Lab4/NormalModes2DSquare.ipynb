{
 "cells": [
  {
   "cell_type": "code",
   "execution_count": 1,
   "metadata": {},
   "outputs": [],
   "source": [
    "import numpy as np\n",
    "import matplotlib.pyplot as plt\n",
    "pi = 4.0*np.arctan(1.0)"
   ]
  },
  {
   "cell_type": "code",
   "execution_count": 44,
   "metadata": {},
   "outputs": [],
   "source": [
    "N = 50\n",
    "M = np.zeros((N**2,N**2))\n",
    "\n",
    "for i in range(0,N):\n",
    "    for j in range(0,N):\n",
    "        if((i-0.5*N)**2+(j-0.5*N)**2) < (N/2.0)**2:\n",
    "            ii = i*N+j\n",
    "\n",
    "            il = i*N+j-1\n",
    "            ir = i*N+j+1\n",
    "            iu = (i+1)*N+j\n",
    "            ido = (i-1)*N+j\n",
    "\n",
    "            if i-1>=0:\n",
    "                M[ii,ido]=-1\n",
    "\n",
    "            if i+1<N:\n",
    "                M[ii,iu]=-1\n",
    "\n",
    "            if j-1>=0:\n",
    "                M[ii,il]=-1\n",
    "\n",
    "            if j+1<N:\n",
    "                M[ii,ir]=-1\n",
    "\n",
    "            M[ii,ii] = 4\n"
   ]
  },
  {
   "cell_type": "code",
   "execution_count": 45,
   "metadata": {},
   "outputs": [
    {
     "data": {
      "image/png": "[encoded data removed]",
      "text/plain": [
       "<Figure size 432x288 with 1 Axes>"
      ]
     },
     "metadata": {},
     "output_type": "display_data"
    }
   ],
   "source": [
    "w,v=np.linalg.eig(M)\n",
    "\n",
    "idx = w.argsort()[::-1]   \n",
    "w = np.real(w[idx])\n",
    "v = np.real(v[:,idx])\n",
    "\n",
    "plt.plot(np.real(w))\n",
    "plt.show()"
   ]
  },
  {
   "cell_type": "code",
   "execution_count": 80,
   "metadata": {},
   "outputs": [],
   "source": [
    "#arrays to store eigenmode data\n",
    "v1 = np.zeros((N,N))\n",
    "for i in range(0,N):\n",
    "    #v1[:,i] = v[N*i:N*(i+1),m]\n",
    "    #unwraps the mth eigenvector into a 2D array\n",
    "    #m starts from N*N-1 and decreases, so the first mode is N*N-1, \n",
    "    #the second is N*N-2, etc (reverse order)\n",
    "    v1[:,i] = v[N*i:N*(i+1),N*N-560]\n",
    "    "
   ]
  },
  {
   "cell_type": "code",
   "execution_count": 81,
   "metadata": {},
   "outputs": [
    {
     "data": {
      "image/png": "[encoded data removed]",
      "text/plain": [
       "<Figure size 432x288 with 1 Axes>"
      ]
     },
     "metadata": {},
     "output_type": "display_data"
    }
   ],
   "source": [
    "#plots -|v| so white corresponds to zero \n",
    "#(where light sand should fall) and black \n",
    "#corresponds to the largest oscillations\n",
    "plt.imshow(-np.abs(v1),cmap='gray')\n",
    "plt.show()\n"
   ]
  },
  {
   "cell_type": "code",
   "execution_count": null,
   "metadata": {},
   "outputs": [],
   "source": []
  }
 ],
 "metadata": {
  "kernelspec": {
   "display_name": "Python 3",
   "language": "python",
   "name": "python3"
  },
  "language_info": {
   "codemirror_mode": {
    "name": "ipython",
    "version": 3
   },
   "file_extension": ".py",
   "mimetype": "text/x-python",
   "name": "python",
   "nbconvert_exporter": "python",
   "pygments_lexer": "ipython3",
   "version": "3.6.5"
  }
 },
 "nbformat": 4,
 "nbformat_minor": 2
}
