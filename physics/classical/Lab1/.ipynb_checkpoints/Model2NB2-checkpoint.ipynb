{
 "cells": [
  {
   "cell_type": "code",
   "execution_count": 2,
   "metadata": {
    "collapsed": true
   },
   "outputs": [],
   "source": [
    "from __future__ import division, print_function\n",
    "import numpy as np\n",
    "import matplotlib.pyplot as plt"
   ]
  },
  {
   "cell_type": "code",
   "execution_count": 3,
   "metadata": {
    "collapsed": true
   },
   "outputs": [],
   "source": [
    "M = 1               #\"big\" particle mass\n",
    "m = 0.0001           #mediating particle mass\n",
    "#c = 1              #speed of mediating particle\n",
    "ro = 1              #initial separation\n",
    "vo = 0              #initial speed (of massive particles)\n",
    "\n",
    "N = 50              #number of collisions to track\n",
    "                    #WARNING: only finite number actually occur\n",
    "                    #so this will break down if N chosen too large"
   ]
  },
  {
   "cell_type": "code",
   "execution_count": 4,
   "metadata": {
    "collapsed": true
   },
   "outputs": [],
   "source": [
    "t = np.zeros(N)     #times collision cycles begin\n",
    "v = np.zeros(N)     #particle speeds at start of collision cycle\n",
    "r = np.zeros(N)     #spatial separation at start of collision cycle \n",
    "c = np.zeros(N)\n",
    "\n",
    "r[0] = ro           #set initial values in arrays\n",
    "v[0] = vo\n",
    "t[0] = 0\n",
    "c[0] = 1"
   ]
  },
  {
   "cell_type": "code",
   "execution_count": 9,
   "metadata": {
    "collapsed": false
   },
   "outputs": [],
   "source": [
    "i = 0\n",
    "while i<N-1:\n",
    "    c[i+1] = ((-2*M)/(M+m))*v[i] + ((M-m)/(M+m))*c[i]\n",
    "    v[i+1] = ((M-m)/(M+m))*v[i] + (2*m/(M+m))*c[i]\n",
    "    t[i+1] = t[i] + r[i]/(2*(c[i]-v[i]))*(1+(c[i]/c[i+1]))\n",
    "    r[i+1] = r[i] + (v[i]*r[i]/(c[i]-v[i]))+(c[i]/c[i+1])*(r[i]*v[i+1]/(c[i]-v[i]))\n",
    "    \n",
    "    \n",
    "    i=i+1"
   ]
  },
  {
   "cell_type": "code",
   "execution_count": 10,
   "metadata": {
    "collapsed": false
   },
   "outputs": [],
   "source": [
    "#Acceleration obtained by finite-difference\n",
    "a = (v[1:N]-v[0:N-1])/(t[1:N]-t[0:N-1])\n",
    "\n",
    "#Acceleration applies to \"midpoint\" so to plot vs r we need the r\n",
    "#values mid-collision cycle\n",
    "ra = r[0:N-1] + 0.5*(r[1:N]-r[0:N-1])"
   ]
  },
  {
   "cell_type": "code",
   "execution_count": 11,
   "metadata": {
    "collapsed": false
   },
   "outputs": [
    {
     "data": {
      "image/png": "[encoded data removed]",
      "text/plain": [
       "<matplotlib.figure.Figure at 0x1168875f8>"
      ]
     },
     "metadata": {},
     "output_type": "display_data"
    }
   ],
   "source": [
    "plt.plot(np.log(ra),np.log(a))\n",
    "plt.show()"
   ]
  },
  {
   "cell_type": "code",
   "execution_count": 12,
   "metadata": {
    "collapsed": false
   },
   "outputs": [
    {
     "name": "stdout",
     "output_type": "stream",
     "text": [
      "-2.99932311617\n"
     ]
    }
   ],
   "source": [
    "#linear curve fit p[0] is slope, p[1] is y-int\n",
    "p = np.polyfit(np.log(ra),np.log(a),1)\n",
    "print(p[0])"
   ]
  },
  {
   "cell_type": "code",
   "execution_count": null,
   "metadata": {
    "collapsed": true
   },
   "outputs": [],
   "source": []
  }
 ],
 "metadata": {
  "anaconda-cloud": {},
  "kernelspec": {
   "display_name": "Python [default]",
   "language": "python",
   "name": "python3"
  },
  "language_info": {
   "codemirror_mode": {
    "name": "ipython",
    "version": 3
   },
   "file_extension": ".py",
   "mimetype": "text/x-python",
   "name": "python",
   "nbconvert_exporter": "python",
   "pygments_lexer": "ipython3",
   "version": "3.5.2"
  }
 },
 "nbformat": 4,
 "nbformat_minor": 2
}
