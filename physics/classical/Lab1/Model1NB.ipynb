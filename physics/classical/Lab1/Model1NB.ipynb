{
 "cells": [
  {
   "cell_type": "code",
   "execution_count": 2,
   "metadata": {},
   "outputs": [],
   "source": [
    "from __future__ import division, print_function\n",
    "import numpy as np\n",
    "import matplotlib.pyplot as plt"
   ]
  },
  {
   "cell_type": "code",
   "execution_count": 3,
   "metadata": {},
   "outputs": [],
   "source": [
    "M = 1               #\"big\" particle mass\n",
    "m = 0.001           #mediating particle mass\n",
    "c = 1               #speed of mediating particle\n",
    "ro = 1              #initial separation\n",
    "vo = 0              #initial speed (of massive particles)\n",
    "\n",
    "N = 50              #number of collisions to track\n",
    "                    #WARNING: only finite number actually occur\n",
    "                    #so this will break down if N chosen too large"
   ]
  },
  {
   "cell_type": "code",
   "execution_count": 4,
   "metadata": {},
   "outputs": [],
   "source": [
    "t = np.zeros(N)     #times collision cycles begin\n",
    "v = np.zeros(N)     #particle speeds at start of collision cycle\n",
    "r = np.zeros(N)     #spatial separation at start of collision cycle \n",
    "\n",
    "r[0] = ro           #set initial values in arrays\n",
    "v[0] = vo\n",
    "t[0] = 0"
   ]
  },
  {
   "cell_type": "code",
   "execution_count": 5,
   "metadata": {},
   "outputs": [],
   "source": [
    "i = 0\n",
    "while i<N-1:\n",
    "    v[i+1] = v[i] + 2*m*c/M\n",
    "    t[i+1] = t[i] + r[i]/(2*(c-v[i]))\n",
    "    r[i+1] = r[i] + 2*(v[i]+m*c/M)*(r[i]/(c-v[i]))\n",
    "    \n",
    "    i=i+1"
   ]
  },
  {
   "cell_type": "code",
   "execution_count": 6,
   "metadata": {},
   "outputs": [],
   "source": [
    "#Acceleration obtained by finite-difference\n",
    "a = (v[1:N]-v[0:N-1])/(t[1:N]-t[0:N-1])\n",
    "\n",
    "#Acceleration applies to \"midpoint\" so to plot vs r we need the r\n",
    "#values mid-collision cycle\n",
    "ra = r[0:N-1] + 0.5*(r[1:N]-r[0:N-1])"
   ]
  },
  {
   "cell_type": "code",
   "execution_count": 9,
   "metadata": {},
   "outputs": [
    {
     "data": {
      "image/png": "[encoded data removed]",
      "text/plain": [
       "<Figure size 432x288 with 1 Axes>"
      ]
     },
     "metadata": {},
     "output_type": "display_data"
    }
   ],
   "source": [
    "plt.plot(np.log(ra),np.log(a))\n",
    "plt.xlabel('log(r)')\n",
    "plt.ylabel('log(a)')\n",
    "plt.title('acceleration vs position midpoints')\n",
    "plt.show()\n"
   ]
  },
  {
   "cell_type": "code",
   "execution_count": 8,
   "metadata": {},
   "outputs": [
    {
     "name": "stdout",
     "output_type": "stream",
     "text": [
      "-0.9999999999999994\n"
     ]
    }
   ],
   "source": [
    "#linear curve fit p[0] is slope, p[1] is y-int\n",
    "p = np.polyfit(np.log(ra),np.log(a),1)\n",
    "print(p[0])"
   ]
  },
  {
   "cell_type": "code",
   "execution_count": null,
   "metadata": {},
   "outputs": [],
   "source": []
  }
 ],
 "metadata": {
  "kernelspec": {
   "display_name": "Python 3",
   "language": "python",
   "name": "python3"
  },
  "language_info": {
   "codemirror_mode": {
    "name": "ipython",
    "version": 3
   },
   "file_extension": ".py",
   "mimetype": "text/x-python",
   "name": "python",
   "nbconvert_exporter": "python",
   "pygments_lexer": "ipython3",
   "version": "3.6.5"
  }
 },
 "nbformat": 4,
 "nbformat_minor": 2
}
