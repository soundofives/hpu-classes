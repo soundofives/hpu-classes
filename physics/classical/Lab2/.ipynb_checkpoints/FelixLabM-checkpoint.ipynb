{
 "cells": [
  {
   "cell_type": "code",
   "execution_count": 1,
   "metadata": {},
   "outputs": [],
   "source": [
    "import numpy as np\n",
    "from scipy import special\n",
    "import matplotlib.pyplot as plt"
   ]
  },
  {
   "cell_type": "code",
   "execution_count": 38,
   "metadata": {},
   "outputs": [
    {
     "name": "stdout",
     "output_type": "stream",
     "text": [
      "Maximum speed:  372.83 m/s\n",
      "At altitude:  27839.31672 m\n"
     ]
    },
    {
     "data": {
      "image/png": "[encoded data removed]",
      "text/plain": [
       "<Figure size 432x288 with 1 Axes>"
      ]
     },
     "metadata": {},
     "output_type": "display_data"
    }
   ],
   "source": [
    "#1\n",
    "felixdat = np.genfromtxt('FelixXVD.csv', delimiter=',')\n",
    "y = 1000*felixdat[:, 0]\n",
    "v = -felixdat[:, 1]\n",
    "\n",
    "#plt.plot(y,v)\n",
    "#plt.xlabel('altitude (m)')\n",
    "#plt.ylabel('velocity (m/s)')\n",
    "#plt.show()\n",
    "max_v = felixdat[:,1].max()\n",
    "print(\"Maximum speed: \", max_v, \"m/s\")\n",
    "index_of_max = felixdat[:, 1].argmax()\n",
    "print(\"At altitude: \", y[index_of_max], \"m\")\n",
    "\n",
    "#2\n",
    "y = y[4:np.size(y)]\n",
    "v = v[4:np.size(v)]\n",
    "Np = np.size(y)\n",
    "\n",
    "#3\n",
    "dfdy = ((v[2:Np]**2)-(v[0:Np-2]**2))/(y[2:Np]-y[0:Np-2])\n",
    "#print(dfdy)\n",
    "\n",
    "#4\n",
    "y = y[1:Np-1]\n",
    "v = v[1:Np-1]\n",
    "Np = np.size(y)\n",
    "\n",
    "#5\n",
    "p_0 = 1.23 #kg/m**3\n",
    "M = 0.029 #kg/mol\n",
    "g = 9.8 #m/s**2\n",
    "R = 8.3 #J/(mol*K)\n",
    "m = 80 #kg (approximate mass of Felix)\n",
    "T = 300 #K\n",
    "y_atm = R*T/(M*g)\n",
    "KA = []\n",
    "KA_size = np.size(KA)\n",
    "#print(KA_size)\n",
    "while (KA_size < Np):\n",
    "    KA.insert(KA_size, ((0.5*dfdy[KA_size]+g)*m)/((v[KA_size]**2)*np.exp(-1*y[KA_size]/y_atm)*p_0))\n",
    "    #print(KA[KA_size])\n",
    "    KA_size = np.size(KA)\n",
    "\n",
    "#6  \n",
    "KA = KA[50:np.size(KA)]\n",
    "y = y[50:np.size(y)]\n",
    "#plt.plot(y[0]-y, KA)\n",
    "#plt.xlabel('distance fallen (m)')\n",
    "#plt.ylabel('KA')\n",
    "#plt.show()\n",
    "\n",
    "#7\n",
    "#mean_KA = np.mean(KA)\n",
    "mean_KA = .072 #adjust KA to better fit the experimental data\n",
    "#print(mean_KA)\n",
    "Gamma = (2*y_atm*mean_KA*p_0*np.exp(-y[0]/y_atm))/m\n",
    "#print(Gamma)\n",
    "xi = np.linspace(0,4,400)\n",
    "u = np.exp(-Gamma*np.exp(xi))*(special.expi(Gamma*np.exp(xi))-special.expi(Gamma))\n",
    "\n",
    "plt.plot(xi,u)\n",
    "\n",
    "xi2 = []\n",
    "u2 = []\n",
    "x=0\n",
    "Np = np.size(y)\n",
    "y[0] = 39000\n",
    "\n",
    "while (x < Np):\n",
    "    xi2.insert(x,(y[0]-y[x])/y_atm)\n",
    "    u2.insert(x,v[x]**2/(2*g*y_atm))\n",
    "    x = x+1\n",
    "    \n",
    "plt.plot(xi2,u2)\n",
    "\n",
    "plt.xlabel('zeta')\n",
    "plt.ylabel('u')\n",
    "plt.show()"
   ]
  },
  {
   "cell_type": "code",
   "execution_count": 6,
   "metadata": {},
   "outputs": [],
   "source": []
  },
  {
   "cell_type": "code",
   "execution_count": null,
   "metadata": {},
   "outputs": [],
   "source": []
  }
 ],
 "metadata": {
  "kernelspec": {
   "display_name": "Python 3",
   "language": "python",
   "name": "python3"
  },
  "language_info": {
   "codemirror_mode": {
    "name": "ipython",
    "version": 3
   },
   "file_extension": ".py",
   "mimetype": "text/x-python",
   "name": "python",
   "nbconvert_exporter": "python",
   "pygments_lexer": "ipython3",
   "version": "3.6.5"
  }
 },
 "nbformat": 4,
 "nbformat_minor": 2
}
