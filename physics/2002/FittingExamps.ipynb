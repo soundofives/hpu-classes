{
 "cells": [
  {
   "cell_type": "code",
   "execution_count": 1,
   "metadata": {
    "collapsed": true
   },
   "outputs": [],
   "source": [
    "#Nolan Roth================================================\n",
    "\n",
    "import numpy as np\n",
    "import matplotlib.pyplot as plt\n",
    "from math import *\n",
    "\n",
    "from scipy.optimize import curve_fit\n",
    "\n",
    "% matplotlib inline"
   ]
  },
  {
   "cell_type": "code",
   "execution_count": 14,
   "metadata": {
    "collapsed": false
   },
   "outputs": [
    {
     "data": {
      "text/plain": [
       "26"
      ]
     },
     "execution_count": 14,
     "metadata": {},
     "output_type": "execute_result"
    }
   ],
   "source": [
    "##DATA DEFINITIONS\n",
    "xdata = np.array([1,3,5])\n",
    "ydata = np.array([6,5,1])\n",
    "\n",
    "xtimesysum = sum(ydata*xdata)\n",
    "xsquaresum = sum(xdata**2)\n",
    "ysum = sum(ydata)\n",
    "xsum = sum(xdata)\n",
    "\n",
    "N = len(xdata)\n",
    "xtimesysum"
   ]
  },
  {
   "cell_type": "code",
   "execution_count": 7,
   "metadata": {
    "collapsed": false
   },
   "outputs": [
    {
     "name": "stdout",
     "output_type": "stream",
     "text": [
      "Slope of best fit line: \n"
     ]
    },
    {
     "data": {
      "text/plain": [
       "-1.25"
      ]
     },
     "execution_count": 7,
     "metadata": {},
     "output_type": "execute_result"
    }
   ],
   "source": [
    "##SLOPE FIT EQ\n",
    "def fit_slope(xtimesysum, xsquaresum, ysum, xsum):\n",
    "    return (N*xtimesysum-xsum*ysum)/(N*xsquaresum-xsum**2)\n",
    "slope = fit_slope(xtimesysum, xsquaresum, ysum, xsum)\n",
    "print(\"Slope of best fit line: \")\n",
    "slope"
   ]
  },
  {
   "cell_type": "code",
   "execution_count": 5,
   "metadata": {
    "collapsed": false
   },
   "outputs": [
    {
     "name": "stdout",
     "output_type": "stream",
     "text": [
      "Y Intercept of best fit line: \n"
     ]
    },
    {
     "data": {
      "text/plain": [
       "7.75"
      ]
     },
     "execution_count": 5,
     "metadata": {},
     "output_type": "execute_result"
    }
   ],
   "source": [
    "##Y INTERCEPT OF BEST FIT LINE\n",
    "def fit_intercept(xtimesysum, xsquaresum, ysum, xsum):\n",
    "    return (xsquaresum*ysum-xsum*xtimesysum)/(N*xsquaresum-xsum**2)\n",
    "yint = fit_intercept(xtimesysum, xsquaresum, ysum, xsum)\n",
    "print(\"Y Intercept of best fit line: \")\n",
    "yint"
   ]
  },
  {
   "cell_type": "code",
   "execution_count": 16,
   "metadata": {
    "collapsed": false
   },
   "outputs": [
    {
     "name": "stdout",
     "output_type": "stream",
     "text": [
      "Sigma Y of best fit line: \n"
     ]
    },
    {
     "data": {
      "text/plain": [
       "1.2247448713915889"
      ]
     },
     "execution_count": 16,
     "metadata": {},
     "output_type": "execute_result"
    }
   ],
   "source": [
    "##SIGMA Y FOR BEST FIT LINE FOR USE IN LATER EQUATIONS\n",
    "functionsum = sum((ydata - yint - slope*xdata)**2)\n",
    "def sigy(N, functionsum):\n",
    "    return ((1/(N-2))*functionsum)**(1/2)\n",
    "sigmay = sigy(N, functionsum)\n",
    "print(\"Sigma Y of best fit line: \")\n",
    "sigmay"
   ]
  },
  {
   "cell_type": "code",
   "execution_count": 9,
   "metadata": {
    "collapsed": false
   },
   "outputs": [
    {
     "name": "stdout",
     "output_type": "stream",
     "text": [
      "Slope error of best fit line: \n"
     ]
    },
    {
     "data": {
      "text/plain": [
       "0.4330127018922193"
      ]
     },
     "execution_count": 9,
     "metadata": {},
     "output_type": "execute_result"
    }
   ],
   "source": [
    "##SIGMA M FOR THE BEST FIT LINE\n",
    "def sigm(N, sigmay, xsquaresum, xsum):\n",
    "    return sigmay*(N/(N*xsquaresum-xsum**2))**(1/2)\n",
    "sigmam = sigm(N, sigmay, xsquaresum, xsum)\n",
    "print(\"Slope error of best fit line: \")\n",
    "sigmam"
   ]
  },
  {
   "cell_type": "code",
   "execution_count": 10,
   "metadata": {
    "collapsed": false
   },
   "outputs": [
    {
     "name": "stdout",
     "output_type": "stream",
     "text": [
      "Sigma Y of best fit line: \n"
     ]
    },
    {
     "data": {
      "text/plain": [
       "1.4790199457749038"
      ]
     },
     "execution_count": 10,
     "metadata": {},
     "output_type": "execute_result"
    }
   ],
   "source": [
    "##SIGMA Y INTERCEPT FOR BEST FIT LINE\n",
    "def sigb(N, sigmay, xsquaresum, xsum):\n",
    "    return sigmay*(xsquaresum/(N*xsquaresum-xsum**2))**(1/2)\n",
    "sigmab = sigb(N, sigmay, xsquaresum, xsum)\n",
    "print(\"Sigma Y of best fit line: \")\n",
    "sigmab"
   ]
  },
  {
   "cell_type": "code",
   "execution_count": 12,
   "metadata": {
    "collapsed": false
   },
   "outputs": [],
   "source": [
    "xfit = np.linspace(0,6,1000)\n",
    "fit = slope*xfit+yint"
   ]
  },
  {
   "cell_type": "code",
   "execution_count": 13,
   "metadata": {
    "collapsed": false
   },
   "outputs": [
    {
     "data": {
      "text/plain": [
       "<matplotlib.text.Text at 0x15c8b499a20>"
      ]
     },
     "execution_count": 13,
     "metadata": {},
     "output_type": "execute_result"
    },
    {
     "data": {
      "image/png": "[encoded data removed]",
      "text/plain": [
       "<matplotlib.figure.Figure at 0x15c8b4017b8>"
      ]
     },
     "metadata": {},
     "output_type": "display_data"
    }
   ],
   "source": [
    "plt.scatter(xdata,ydata, label='Data')\n",
    "plt.plot(xfit, fit, 'g', label='Fit')\n",
    "plt.xlabel('X (Units)')\n",
    "plt.ylabel('Y (Units)')\n",
    "plt.legend(loc='best')\n",
    "plt.title('Problem 8.1')"
   ]
  },
  {
   "cell_type": "code",
   "execution_count": 17,
   "metadata": {
    "collapsed": true
   },
   "outputs": [],
   "source": [
    "#8.7===========================================\n",
    "#convert units first\n",
    "mass = np.array([.2,.3,.4,.5,.6,.7,.8,.9])\n",
    "length = ([.051,.055,.059,.068,.074,.075,.086,.094])\n",
    "N = len(mass)"
   ]
  },
  {
   "cell_type": "code",
   "execution_count": 19,
   "metadata": {
    "collapsed": true
   },
   "outputs": [],
   "source": [
    "masstimeslensum = sum(mass*length)\n",
    "masssquaresum = sum(mass**2)\n",
    "lengthsum = sum(length)\n",
    "masssum = sum(mass)"
   ]
  },
  {
   "cell_type": "code",
   "execution_count": 33,
   "metadata": {
    "collapsed": false
   },
   "outputs": [],
   "source": [
    "m = fit_slope(masstimeslensum, masssquaresum, lengthsum, masssum)\n",
    "yint = fit_intercept(masstimeslensum, masssquaresum, lengthsum, masssum)\n",
    "\n",
    "functionsum = sum((length - yint - m*mass)**2)\n",
    "sigmay = sigy(N, functionsum)\n",
    "sigmam = sigm(N, sigmay, masssquaresum, masssum)\n",
    "sigmab = sigb(N, sigmay, masssquaresum, masssum)"
   ]
  },
  {
   "cell_type": "code",
   "execution_count": 34,
   "metadata": {
    "collapsed": false
   },
   "outputs": [
    {
     "name": "stdout",
     "output_type": "stream",
     "text": [
      "m: 0.0607142857143 yiny: 0.0368571428571 sigmay: 0.00242506750029 sigmam: 0.00374196039179 sigmab: 0.00222953021703\n",
      "k: 161.411764706 sigmak: 2618.94808441 sigmam: 0.00374196039179\n"
     ]
    }
   ],
   "source": [
    "#8.7 STuff\n",
    "print('m:', m,'yiny:', yint,'sigmay:', sigmay,'sigmam:', sigmam,'sigmab:', sigmab)\n",
    "g = 9.8\n",
    "k = g/m\n",
    "sigmak = g/sigmam\n",
    "print('k:', k, 'sigmak:', sigmak, 'sigmam:', sigmam)"
   ]
  },
  {
   "cell_type": "code",
   "execution_count": 36,
   "metadata": {
    "collapsed": false
   },
   "outputs": [
    {
     "data": {
      "text/plain": [
       "<matplotlib.legend.Legend at 0x15c8b8f7ac8>"
      ]
     },
     "execution_count": 36,
     "metadata": {},
     "output_type": "execute_result"
    },
    {
     "data": {
      "image/png": "[encoded data removed]",
      "text/plain": [
       "<matplotlib.figure.Figure at 0x15c8b4013c8>"
      ]
     },
     "metadata": {},
     "output_type": "display_data"
    }
   ],
   "source": [
    "xfit = np.linspace(0,1,1000)\n",
    "fit = m*xfit+yint\n",
    "plt.scatter(mass, length, label='Data')\n",
    "plt.plot(xfit, fit, 'g', label='Fit')\n",
    "plt.xlabel('mass (kg)')\n",
    "plt.ylabel('length (m)')\n",
    "plt.title('mass v. length (Problem 8.7)')\n",
    "plt.legend(loc='best')"
   ]
  },
  {
   "cell_type": "code",
   "execution_count": 38,
   "metadata": {
    "collapsed": true
   },
   "outputs": [],
   "source": [
    "#Problem 8.15============================================\n",
    "x = np.array([1,2,3,4,5,6])\n",
    "y = np.array([5.0,14.4,23.1,32.3,41.0,50.4])\n",
    "N = len(x)\n",
    "\n",
    "xtimesysum = sum(x*y)\n",
    "xsquaresum = sum(x**2)\n",
    "ysum = sum(y)\n",
    "xsum = sum(x)"
   ]
  },
  {
   "cell_type": "code",
   "execution_count": 39,
   "metadata": {
    "collapsed": true
   },
   "outputs": [],
   "source": [
    "m = fit_slope(xtimesysum, xsquaresum, ysum, xsum)\n",
    "yint = fit_intercept(xtimesysum, xsquaresum, ysum, xsum)\n",
    "\n",
    "functionsum = sum((y - yint - m*x)**2)\n",
    "sigmay = sigy(N, functionsum)\n",
    "sigmam = sigm(N, sigmay, xsquaresum, xsum)\n",
    "sigmab = sigb(N, sigmay, xsquaresum, xsum)"
   ]
  },
  {
   "cell_type": "code",
   "execution_count": 40,
   "metadata": {
    "collapsed": false
   },
   "outputs": [
    {
     "name": "stdout",
     "output_type": "stream",
     "text": [
      "m: 9.02857142857 yiny: -3.9 sigmay: 0.20354009784 sigmam: 0.0486553896169 sigmab: 0.189485518984\n",
      "gamma: 18.0571428571 sigmagamma: 0.0973107792339\n"
     ]
    }
   ],
   "source": [
    "#8.15 Stuff\n",
    "print('m:', m,'yiny:', yint,'sigmay:', sigmay,'sigmam:', sigmam,'sigmab:', sigmab)\n",
    "gamma = 2*m\n",
    "sigmagamma = 2*sigmam\n",
    "print('gamma:', gamma, 'sigmagamma:', sigmagamma)"
   ]
  },
  {
   "cell_type": "code",
   "execution_count": 43,
   "metadata": {
    "collapsed": false
   },
   "outputs": [
    {
     "data": {
      "text/plain": [
       "<matplotlib.legend.Legend at 0x15c8ba3cf60>"
      ]
     },
     "execution_count": 43,
     "metadata": {},
     "output_type": "execute_result"
    },
    {
     "data": {
      "image/png": "[encoded data removed]",
      "text/plain": [
       "<matplotlib.figure.Figure at 0x15c8b968128>"
      ]
     },
     "metadata": {},
     "output_type": "display_data"
    }
   ],
   "source": [
    "xfit = np.linspace(0,7,1000)\n",
    "fit = m*xfit+yint\n",
    "\n",
    "plt.scatter(x, y, label='Data')\n",
    "plt.plot(xfit, fit, 'g', label='Fit')\n",
    "plt.xlabel('nodes')\n",
    "plt.ylabel('position (cm)')\n",
    "plt.title('Problem 8.15')\n",
    "plt.legend(loc='best')"
   ]
  },
  {
   "cell_type": "code",
   "execution_count": null,
   "metadata": {
    "collapsed": true
   },
   "outputs": [],
   "source": []
  }
 ],
 "metadata": {
  "kernelspec": {
   "display_name": "Python 3",
   "language": "python",
   "name": "python3"
  },
  "language_info": {
   "codemirror_mode": {
    "name": "ipython",
    "version": 3
   },
   "file_extension": ".py",
   "mimetype": "text/x-python",
   "name": "python",
   "nbconvert_exporter": "python",
   "pygments_lexer": "ipython3",
   "version": "3.6.0"
  }
 },
 "nbformat": 4,
 "nbformat_minor": 2
}
