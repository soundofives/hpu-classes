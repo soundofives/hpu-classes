{
 "cells": [
  {
   "cell_type": "code",
   "execution_count": 48,
   "metadata": {
    "collapsed": true
   },
   "outputs": [],
   "source": [
    "import numpy as np\n",
    "import matplotlib.pyplot as plt\n",
    "from math import *\n",
    "\n",
    "from scipy.optimize import curve_fit\n",
    "\n",
    "% matplotlib inline"
   ]
  },
  {
   "cell_type": "code",
   "execution_count": 50,
   "metadata": {
    "collapsed": true
   },
   "outputs": [],
   "source": [
    "##DATA DEFINITIONS\n",
    "ydata = np.array([42.0,48.4,51.3,56.3,58.6])\n",
    "xdata = np.array([2,4,6,8,10])\n",
    "\n",
    "xtimesysum = sum(ydata*xdata)\n",
    "xsquaresum = sum(xdata**2)\n",
    "ysum = sum(ydata)\n",
    "xsum = sum(xdata)\n",
    "\n",
    "N = len(xdata)"
   ]
  },
  {
   "cell_type": "code",
   "execution_count": 54,
   "metadata": {
    "collapsed": false
   },
   "outputs": [
    {
     "name": "stdout",
     "output_type": "stream",
     "text": [
      "Slope of best fit line: \n"
     ]
    },
    {
     "data": {
      "text/plain": [
       "2.0549999999999953"
      ]
     },
     "execution_count": 54,
     "metadata": {},
     "output_type": "execute_result"
    }
   ],
   "source": [
    "##SLOPE FIT EQ\n",
    "def fit_slope(xtimesysum, xsquaresum, ysum, xsum):\n",
    "    return (N*xtimesysum-xsum*ysum)/(N*xsquaresum-xsum**2)\n",
    "slope = fit_slope(xtimesysum, xsquaresum, ysum, xsum)\n",
    "print(\"Slope of best fit line: \")\n",
    "slope"
   ]
  },
  {
   "cell_type": "code",
   "execution_count": 55,
   "metadata": {
    "collapsed": false
   },
   "outputs": [
    {
     "name": "stdout",
     "output_type": "stream",
     "text": [
      "Y Intercept of best fit line: \n"
     ]
    },
    {
     "data": {
      "text/plain": [
       "38.990000000000038"
      ]
     },
     "execution_count": 55,
     "metadata": {},
     "output_type": "execute_result"
    }
   ],
   "source": [
    "##Y INTERCEPT OF BEST FIT LINE\n",
    "def fit_intercept(xtimesysum, xsquaresum, ysum, xsum):\n",
    "    return (xsquaresum*ysum-xsum*xtimesysum)/(N*xsquaresum-xsum**2)\n",
    "yint = fit_intercept(xtimesysum, xsquaresum, ysum, xsum)\n",
    "print(\"Y Intercept of best fit line: \")\n",
    "yint"
   ]
  },
  {
   "cell_type": "code",
   "execution_count": 65,
   "metadata": {
    "collapsed": false
   },
   "outputs": [
    {
     "name": "stdout",
     "output_type": "stream",
     "text": [
      "Sigma Y of best fit line: \n"
     ]
    },
    {
     "data": {
      "text/plain": [
       "1.1926161718395951"
      ]
     },
     "execution_count": 65,
     "metadata": {},
     "output_type": "execute_result"
    }
   ],
   "source": [
    "##SIGMA Y FOR BEST FIT LINE\n",
    "functionsum = sum((ydata - yint - slope*xdata)**2)\n",
    "def sigy(N, functionsum):\n",
    "    return ((1/(N-2))*functionsum)**(1/2)\n",
    "sigmay = sigy(N, functionsum)\n",
    "print(\"Sigma Y of best fit line: \")\n",
    "sigmay"
   ]
  },
  {
   "cell_type": "code",
   "execution_count": 66,
   "metadata": {
    "collapsed": false,
    "scrolled": false
   },
   "outputs": [
    {
     "name": "stdout",
     "output_type": "stream",
     "text": [
      "Slope error of best fit line: \n"
     ]
    },
    {
     "data": {
      "text/plain": [
       "0.18856917386819425"
      ]
     },
     "execution_count": 66,
     "metadata": {},
     "output_type": "execute_result"
    }
   ],
   "source": [
    "##SIGMA M FOR THE BEST FIT LINE\n",
    "def sigm(N, sigmay, xsquaresum, xsum):\n",
    "    return sigmay*(N/(N*xsquaresum-xsum**2))**(1/2)\n",
    "sigmam = sigm(N, sigmay, xsquaresum, xsum)\n",
    "print(\"Slope error of best fit line: \")\n",
    "sigmam"
   ]
  },
  {
   "cell_type": "code",
   "execution_count": 70,
   "metadata": {
    "collapsed": false
   },
   "outputs": [
    {
     "name": "stdout",
     "output_type": "stream",
     "text": [
      "Sigma Y of best fit line: \n"
     ]
    },
    {
     "data": {
      "text/plain": [
       "1.2508263934961814"
      ]
     },
     "execution_count": 70,
     "metadata": {},
     "output_type": "execute_result"
    }
   ],
   "source": [
    "##SIGMA Y INTERCEPT FOR BEST FIT LINE\n",
    "def sigb(N, sigmay, xsquaresum, xsum):\n",
    "    return sigmay*(xsquaresum/(N*xsquaresum-xsum**2))**(1/2)\n",
    "sigmab = sigb(N, sigmay, xsquaresum, xsum)\n",
    "print(\"Sigma Y of best fit line: \")\n",
    "sigmab"
   ]
  },
  {
   "cell_type": "code",
   "execution_count": 71,
   "metadata": {
    "collapsed": true
   },
   "outputs": [],
   "source": [
    "linearfit = np.polyfit(xdata,ydata, 1)\n"
   ]
  },
  {
   "cell_type": "code",
   "execution_count": 73,
   "metadata": {
    "collapsed": false
   },
   "outputs": [
    {
     "data": {
      "text/plain": [
       "(1.1926161718395951,\n",
       " 0.18856917386819425,\n",
       " 1.2508263934961814,\n",
       " 4.2669999999999924)"
      ]
     },
     "execution_count": 73,
     "metadata": {},
     "output_type": "execute_result"
    }
   ],
   "source": [
    "sigmay, sigmam, sigmab, functionsum"
   ]
  },
  {
   "cell_type": "code",
   "execution_count": null,
   "metadata": {
    "collapsed": true
   },
   "outputs": [],
   "source": []
  }
 ],
 "metadata": {
  "kernelspec": {
   "display_name": "Python 3",
   "language": "python",
   "name": "python3"
  },
  "language_info": {
   "codemirror_mode": {
    "name": "ipython",
    "version": 3
   },
   "file_extension": ".py",
   "mimetype": "text/x-python",
   "name": "python",
   "nbconvert_exporter": "python",
   "pygments_lexer": "ipython3",
   "version": "3.6.0"
  }
 },
 "nbformat": 4,
 "nbformat_minor": 2
}
