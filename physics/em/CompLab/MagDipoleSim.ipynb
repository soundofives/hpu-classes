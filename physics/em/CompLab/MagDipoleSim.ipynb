{
 "cells": [
  {
   "cell_type": "code",
   "execution_count": 1,
   "metadata": {},
   "outputs": [],
   "source": [
    "import numpy as np\n",
    "import matplotlib.pyplot as plt"
   ]
  },
  {
   "cell_type": "code",
   "execution_count": null,
   "metadata": {},
   "outputs": [],
   "source": [
    "oofpen = 8841941282.88 (1/4*pi*ep0)\n",
    "B = oofpen*"
   ]
  },
  {
   "cell_type": "code",
   "execution_count": 1,
   "metadata": {},
   "outputs": [
    {
     "data": {
      "text/plain": [
       "<Figure size 640x480 with 1 Axes>"
      ]
     },
     "metadata": {},
     "output_type": "display_data"
    }
   ],
   "source": [
    "import numpy as np\n",
    "import matplotlib.pyplot as plt\n",
    "import mpl_toolkits.mplot3d.axes3d as axes3d\n",
    "\n",
    "theta, phi = np.linspace(0, 2 * np.pi, 40), np.linspace(0, np.pi, 40)\n",
    "THETA, PHI = np.meshgrid(theta, phi)\n",
    "R = np.cos(PHI**2)\n",
    "X = R * np.sin(PHI) * np.cos(THETA)\n",
    "Y = R * np.sin(PHI) * np.sin(THETA)\n",
    "Z = R * np.cos(PHI)\n",
    "fig = plt.figure()\n",
    "ax = fig.add_subplot(1,1,1, projection='3d')\n",
    "plot = ax.plot_surface(\n",
    "    X, Y, Z, rstride=1, cstride=1, cmap=plt.get_cmap('jet'),\n",
    "    linewidth=0, antialiased=False, alpha=0.5)\n",
    "\n",
    "plt.show()"
   ]
  },
  {
   "cell_type": "code",
   "execution_count": null,
   "metadata": {},
   "outputs": [],
   "source": []
  }
 ],
 "metadata": {
  "kernelspec": {
   "display_name": "Python 3",
   "language": "python",
   "name": "python3"
  },
  "language_info": {
   "codemirror_mode": {
    "name": "ipython",
    "version": 3
   },
   "file_extension": ".py",
   "mimetype": "text/x-python",
   "name": "python",
   "nbconvert_exporter": "python",
   "pygments_lexer": "ipython3",
   "version": "3.6.5"
  }
 },
 "nbformat": 4,
 "nbformat_minor": 2
}
