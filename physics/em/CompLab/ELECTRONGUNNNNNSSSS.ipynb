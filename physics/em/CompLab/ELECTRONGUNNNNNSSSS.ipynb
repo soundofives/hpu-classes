{
 "cells": [
  {
   "cell_type": "code",
   "execution_count": 1,
   "metadata": {},
   "outputs": [],
   "source": [
    "import numpy as np\n",
    "import matplotlib.pyplot as plt\n",
    "from uncertainties import ufloat\n",
    "np.set_printoptions(suppress=True)"
   ]
  },
  {
   "cell_type": "code",
   "execution_count": 2,
   "metadata": {},
   "outputs": [],
   "source": [
    "%matplotlib notebook"
   ]
  },
  {
   "cell_type": "code",
   "execution_count": 3,
   "metadata": {},
   "outputs": [],
   "source": [
    "mu0 = (4*np.pi)*1e-7\n",
    "#R = ufloat(0.158,0.0005) #m\n",
    "R = 0.158 #m\n",
    "N = 130.0 #coils\n",
    "real_ans = 1.76e11 #C/kg\n",
    "\n",
    "def e_m(r,U,I):\n",
    "    return 2.0*U*(((5.0/4.0)**3*R**2)/(N*mu0*I*r)**2)\n",
    "\n",
    "def e_m1(r,U,I):\n",
    "    a = (2.0*U)/r**2\n",
    "    b = (5.0/4.0)**3\n",
    "    c = R**2/(mu0**2*N**2*I**2)\n",
    "    \n",
    "    return a*b*c"
   ]
  },
  {
   "cell_type": "code",
   "execution_count": 4,
   "metadata": {},
   "outputs": [
    {
     "name": "stdout",
     "output_type": "stream",
     "text": [
      "(1.67+/-0.21)e+11\n"
     ]
    }
   ],
   "source": [
    "rtest =ufloat(0.0275,0.0005)\n",
    "Itest = ufloat(1.7,0.1)\n",
    "Utest = ufloat(100,0.1)\n",
    "test = e_m(rtest,Utest,Itest)\n",
    "print(test)"
   ]
  },
  {
   "cell_type": "code",
   "execution_count": 28,
   "metadata": {},
   "outputs": [],
   "source": [
    "rI = np.array([4.5,4,3.5,3.25,2.75,2.5,5.25,6.5,7,]) #in cm\n",
    "rI = rI/100 #in m\n",
    "I = np.array([1.3,1.5,1.7,1.9,2.1,2.3,0.8,0.9,1.1]) #in A at 100 V\n",
    "\n",
    "rU = np.array([3.5,3.75,4,4,4.25,4.5,4.75,5,5.25,5.25,5.5]) #in cm\n",
    "rU = rU/100 #in m\n",
    "U = np.array([80,90,100,110,120,130,140,150,160,170,180]) #in V at 1.5 A\n",
    "\n",
    "accepted_value = 1.76e11 #C/kg"
   ]
  },
  {
   "cell_type": "code",
   "execution_count": 29,
   "metadata": {},
   "outputs": [],
   "source": [
    "etom_I = e_m(rI,100,I)\n",
    "\n",
    "etom_U = e_m(rU,U,1.5)"
   ]
  },
  {
   "cell_type": "code",
   "execution_count": 30,
   "metadata": {},
   "outputs": [
    {
     "ename": "AttributeError",
     "evalue": "'AffineScalarFunc' object has no attribute 'sqrt'",
     "output_type": "error",
     "traceback": [
      "\u001b[0;31m---------------------------------------------------------------------------\u001b[0m",
      "\u001b[0;31mAttributeError\u001b[0m                            Traceback (most recent call last)",
      "\u001b[0;32m<ipython-input-30-e7bf4bfbeceb>\u001b[0m in \u001b[0;36m<module>\u001b[0;34m()\u001b[0m\n\u001b[0;32m----> 1\u001b[0;31m \u001b[0mprint\u001b[0m\u001b[0;34m(\u001b[0m\u001b[0;34m(\u001b[0m\u001b[0metom_I\u001b[0m\u001b[0;34m)\u001b[0m\u001b[0;34m,\u001b[0m\u001b[0mnp\u001b[0m\u001b[0;34m.\u001b[0m\u001b[0mstd\u001b[0m\u001b[0;34m(\u001b[0m\u001b[0metom_I\u001b[0m\u001b[0;34m)\u001b[0m\u001b[0;34m)\u001b[0m\u001b[0;34m\u001b[0m\u001b[0m\n\u001b[0m",
      "\u001b[0;32m~/programs/lib/python3.6/site-packages/numpy/core/fromnumeric.py\u001b[0m in \u001b[0;36mstd\u001b[0;34m(a, axis, dtype, out, ddof, keepdims)\u001b[0m\n\u001b[1;32m   3036\u001b[0m \u001b[0;34m\u001b[0m\u001b[0m\n\u001b[1;32m   3037\u001b[0m     return _methods._std(a, axis=axis, dtype=dtype, out=out, ddof=ddof,\n\u001b[0;32m-> 3038\u001b[0;31m                          **kwargs)\n\u001b[0m\u001b[1;32m   3039\u001b[0m \u001b[0;34m\u001b[0m\u001b[0m\n\u001b[1;32m   3040\u001b[0m \u001b[0;34m\u001b[0m\u001b[0m\n",
      "\u001b[0;32m~/programs/lib/python3.6/site-packages/numpy/core/_methods.py\u001b[0m in \u001b[0;36m_std\u001b[0;34m(a, axis, dtype, out, ddof, keepdims)\u001b[0m\n\u001b[1;32m    143\u001b[0m         \u001b[0mret\u001b[0m \u001b[0;34m=\u001b[0m \u001b[0mum\u001b[0m\u001b[0;34m.\u001b[0m\u001b[0msqrt\u001b[0m\u001b[0;34m(\u001b[0m\u001b[0mret\u001b[0m\u001b[0;34m,\u001b[0m \u001b[0mout\u001b[0m\u001b[0;34m=\u001b[0m\u001b[0mret\u001b[0m\u001b[0;34m)\u001b[0m\u001b[0;34m\u001b[0m\u001b[0m\n\u001b[1;32m    144\u001b[0m     \u001b[0;32melif\u001b[0m \u001b[0mhasattr\u001b[0m\u001b[0;34m(\u001b[0m\u001b[0mret\u001b[0m\u001b[0;34m,\u001b[0m \u001b[0;34m'dtype'\u001b[0m\u001b[0;34m)\u001b[0m\u001b[0;34m:\u001b[0m\u001b[0;34m\u001b[0m\u001b[0m\n\u001b[0;32m--> 145\u001b[0;31m         \u001b[0mret\u001b[0m \u001b[0;34m=\u001b[0m \u001b[0mret\u001b[0m\u001b[0;34m.\u001b[0m\u001b[0mdtype\u001b[0m\u001b[0;34m.\u001b[0m\u001b[0mtype\u001b[0m\u001b[0;34m(\u001b[0m\u001b[0mum\u001b[0m\u001b[0;34m.\u001b[0m\u001b[0msqrt\u001b[0m\u001b[0;34m(\u001b[0m\u001b[0mret\u001b[0m\u001b[0;34m)\u001b[0m\u001b[0;34m)\u001b[0m\u001b[0;34m\u001b[0m\u001b[0m\n\u001b[0m\u001b[1;32m    146\u001b[0m     \u001b[0;32melse\u001b[0m\u001b[0;34m:\u001b[0m\u001b[0;34m\u001b[0m\u001b[0m\n\u001b[1;32m    147\u001b[0m         \u001b[0mret\u001b[0m \u001b[0;34m=\u001b[0m \u001b[0mum\u001b[0m\u001b[0;34m.\u001b[0m\u001b[0msqrt\u001b[0m\u001b[0;34m(\u001b[0m\u001b[0mret\u001b[0m\u001b[0;34m)\u001b[0m\u001b[0;34m\u001b[0m\u001b[0m\n",
      "\u001b[0;31mAttributeError\u001b[0m: 'AffineScalarFunc' object has no attribute 'sqrt'"
     ]
    }
   ],
   "source": [
    "print((etom_I),np.std(etom_I))"
   ]
  },
  {
   "cell_type": "code",
   "execution_count": 31,
   "metadata": {},
   "outputs": [
    {
     "ename": "AttributeError",
     "evalue": "'AffineScalarFunc' object has no attribute 'sqrt'",
     "output_type": "error",
     "traceback": [
      "\u001b[0;31m---------------------------------------------------------------------------\u001b[0m",
      "\u001b[0;31mAttributeError\u001b[0m                            Traceback (most recent call last)",
      "\u001b[0;32m<ipython-input-31-11375ad6e10b>\u001b[0m in \u001b[0;36m<module>\u001b[0;34m()\u001b[0m\n\u001b[0;32m----> 1\u001b[0;31m \u001b[0mprint\u001b[0m\u001b[0;34m(\u001b[0m\u001b[0mnp\u001b[0m\u001b[0;34m.\u001b[0m\u001b[0mmean\u001b[0m\u001b[0;34m(\u001b[0m\u001b[0metom_U\u001b[0m\u001b[0;34m)\u001b[0m\u001b[0;34m,\u001b[0m\u001b[0mnp\u001b[0m\u001b[0;34m.\u001b[0m\u001b[0mstd\u001b[0m\u001b[0;34m(\u001b[0m\u001b[0metom_U\u001b[0m\u001b[0;34m)\u001b[0m\u001b[0;34m)\u001b[0m\u001b[0;34m\u001b[0m\u001b[0m\n\u001b[0m",
      "\u001b[0;32m~/programs/lib/python3.6/site-packages/numpy/core/fromnumeric.py\u001b[0m in \u001b[0;36mstd\u001b[0;34m(a, axis, dtype, out, ddof, keepdims)\u001b[0m\n\u001b[1;32m   3036\u001b[0m \u001b[0;34m\u001b[0m\u001b[0m\n\u001b[1;32m   3037\u001b[0m     return _methods._std(a, axis=axis, dtype=dtype, out=out, ddof=ddof,\n\u001b[0;32m-> 3038\u001b[0;31m                          **kwargs)\n\u001b[0m\u001b[1;32m   3039\u001b[0m \u001b[0;34m\u001b[0m\u001b[0m\n\u001b[1;32m   3040\u001b[0m \u001b[0;34m\u001b[0m\u001b[0m\n",
      "\u001b[0;32m~/programs/lib/python3.6/site-packages/numpy/core/_methods.py\u001b[0m in \u001b[0;36m_std\u001b[0;34m(a, axis, dtype, out, ddof, keepdims)\u001b[0m\n\u001b[1;32m    143\u001b[0m         \u001b[0mret\u001b[0m \u001b[0;34m=\u001b[0m \u001b[0mum\u001b[0m\u001b[0;34m.\u001b[0m\u001b[0msqrt\u001b[0m\u001b[0;34m(\u001b[0m\u001b[0mret\u001b[0m\u001b[0;34m,\u001b[0m \u001b[0mout\u001b[0m\u001b[0;34m=\u001b[0m\u001b[0mret\u001b[0m\u001b[0;34m)\u001b[0m\u001b[0;34m\u001b[0m\u001b[0m\n\u001b[1;32m    144\u001b[0m     \u001b[0;32melif\u001b[0m \u001b[0mhasattr\u001b[0m\u001b[0;34m(\u001b[0m\u001b[0mret\u001b[0m\u001b[0;34m,\u001b[0m \u001b[0;34m'dtype'\u001b[0m\u001b[0;34m)\u001b[0m\u001b[0;34m:\u001b[0m\u001b[0;34m\u001b[0m\u001b[0m\n\u001b[0;32m--> 145\u001b[0;31m         \u001b[0mret\u001b[0m \u001b[0;34m=\u001b[0m \u001b[0mret\u001b[0m\u001b[0;34m.\u001b[0m\u001b[0mdtype\u001b[0m\u001b[0;34m.\u001b[0m\u001b[0mtype\u001b[0m\u001b[0;34m(\u001b[0m\u001b[0mum\u001b[0m\u001b[0;34m.\u001b[0m\u001b[0msqrt\u001b[0m\u001b[0;34m(\u001b[0m\u001b[0mret\u001b[0m\u001b[0;34m)\u001b[0m\u001b[0;34m)\u001b[0m\u001b[0;34m\u001b[0m\u001b[0m\n\u001b[0m\u001b[1;32m    146\u001b[0m     \u001b[0;32melse\u001b[0m\u001b[0;34m:\u001b[0m\u001b[0;34m\u001b[0m\u001b[0m\n\u001b[1;32m    147\u001b[0m         \u001b[0mret\u001b[0m \u001b[0;34m=\u001b[0m \u001b[0mum\u001b[0m\u001b[0;34m.\u001b[0m\u001b[0msqrt\u001b[0m\u001b[0;34m(\u001b[0m\u001b[0mret\u001b[0m\u001b[0;34m)\u001b[0m\u001b[0;34m\u001b[0m\u001b[0m\n",
      "\u001b[0;31mAttributeError\u001b[0m: 'AffineScalarFunc' object has no attribute 'sqrt'"
     ]
    }
   ],
   "source": [
    "print(np.mean(etom_U),np.std(etom_U))"
   ]
  },
  {
   "cell_type": "code",
   "execution_count": 32,
   "metadata": {},
   "outputs": [],
   "source": [
    "rI2 = np.array([7.5,7,6,5,4.25,3.75,3.5,3,2.75,2.5]) #in cm\n",
    "rI2 = rI2/100 #in m\n",
    "I2 = np.array([0.7,0.8,0.9,1.1,1.3,1.5,1.7,1.9,2.1,2.3]) #in A at 100 V\n",
    "\n",
    "rU2 = np.array([])\n",
    "U2 = np.array([])"
   ]
  },
  {
   "cell_type": "code",
   "execution_count": 13,
   "metadata": {},
   "outputs": [
    {
     "name": "stdout",
     "output_type": "stream",
     "text": [
      "116613595605.9091 8013733064.280187\n",
      "124627328670.18929 8013733064.280187\n"
     ]
    }
   ],
   "source": [
    "etom_I2 = e_m(rI2,100,I2)\n",
    "print(np.mean(etom_I2),np.std(etom_I2))\n",
    "print(np.mean(etom_I2)+np.std(etom_I2),np.std(etom_I2))"
   ]
  },
  {
   "cell_type": "code",
   "execution_count": 5,
   "metadata": {},
   "outputs": [
    {
     "name": "stdout",
     "output_type": "stream",
     "text": [
      "(1.74+/-0.10)e+11\n",
      "1+/-6\n"
     ]
    }
   ],
   "source": [
    "rI3 = np.array([ufloat(0.02,0.0005),ufloat(0.0225,0.0005),ufloat(0.025,0.0005),ufloat(0.0275,0.0005),ufloat(0.0325,0.0005),ufloat(0.035,0.0005),ufloat(0.0425,0.0005),ufloat(0.05,0.0005),ufloat(0.055,0.0005),ufloat(0.06,0.0005)]) #in cm\n",
    "#rI3 = rI3/100 #in m\n",
    "I3 = np.array([ufloat(2.3,0.1),ufloat(2.1,0.1),ufloat(1.9,0.1),ufloat(1.7,0.1),ufloat(1.5,0.1),ufloat(1.3,0.1),ufloat(1.1,0.1),ufloat(0.9,0.1),ufloat(0.8,0.1),ufloat(0.7,0.1)]) #in A at 100 V\n",
    "V3 = ufloat(100,0.1)\n",
    "rU3 = np.array([])\n",
    "U3 = np.array([])\n",
    "\n",
    "etom_I3 = e_m(rI3,V3,I3)\n",
    "print(np.mean(etom_I3))\n",
    "# print(np.mean(etom_I3),np.std(etom_I3))\n",
    "# print(np.mean(etom_I3)+np.std(etom_I3),np.std(etom_I3))\n",
    "\n",
    "pererr = abs(np.mean(etom_I3)-real_ans)/real_ans\n",
    "print(pererr*100)"
   ]
  },
  {
   "cell_type": "code",
   "execution_count": 14,
   "metadata": {},
   "outputs": [
    {
     "name": "stdout",
     "output_type": "stream",
     "text": [
      "(1.74+/-0.10)e+11\n",
      "1+/-6\n"
     ]
    }
   ],
   "source": [
    "#rI3 = np.array([0.02,0.0225,0.025,0.0275,0.0325,0.035,0.0425,0.05,0.055,0.06]) #in cm\n",
    "rI3 = np.array([ufloat(0.02,0.0005),ufloat(0.0225,0.0005),ufloat(0.025,0.0005),ufloat(0.0275,0.0005),ufloat(0.0325,0.0005),ufloat(0.035,0.0005),ufloat(0.0425,0.0005),ufloat(0.05,0.0005),ufloat(0.055,0.0005),ufloat(0.06,0.0005)]) #in cm\n",
    "#rI3 = rI3/100 #in m\n",
    "#I3 = np.array([2.3,2.1,1.9,1.7,1.5,1.3,1.1,0.9,0.8,0.7]) #in A at 100 V\n",
    "I3 = np.array([ufloat(2.3,0.1),ufloat(2.1,0.1),ufloat(1.9,0.1),ufloat(1.7,0.1),ufloat(1.5,0.1),ufloat(1.3,0.1),ufloat(1.1,0.1),ufloat(0.9,0.1),ufloat(0.8,0.1),ufloat(0.7,0.1)]) #in A at 100 V\n",
    "rU3 = np.array([])\n",
    "U3 = np.array([])\n",
    "\n",
    "etom_I3 = e_m(rI3,ufloat(100,0.1),I3)\n",
    "print(np.mean(etom_I3))\n",
    "\n",
    "#print(np.mean(etom_I3),np.std(etom_I3))\n",
    "#print(np.mean(etom_I3)+np.std(etom_I3),np.std(etom_I3))\n",
    "\n",
    "pererr = abs(np.mean(etom_I3)-real_ans)/real_ans\n",
    "#pererr = abs(etom_I3-real_ans)/real_ans\n",
    "print(pererr*100)"
   ]
  },
  {
   "cell_type": "code",
   "execution_count": 61,
   "metadata": {},
   "outputs": [
    {
     "name": "stdout",
     "output_type": "stream",
     "text": [
      "[2.07142491e+11 1.58593470e+11 1.80444126e+11 1.67187786e+11\n",
      " 1.53751208e+11 1.53751208e+11 1.67187786e+11 1.61949852e+11\n",
      " 1.63668141e+11 1.72684005e+11]\n",
      "\n",
      "\n",
      "168636007221.4004 15020364113.539558\n",
      "183656371334.93994 15020364113.539558\n"
     ]
    }
   ],
   "source": [
    "rI4 = np.array([6,6,5,4.25,3.75,3.25,2.75,2.5,2.25,2]) #in cm\n",
    "rI4 = rI4/100 #in m\n",
    "I4 = np.array([0.7,0.8,0.9,1.1,1.3,1.5,1.7,1.9,2.1,2.3]) #in A at 100 V\n",
    "\n",
    "rU4 = np.array([])\n",
    "U4 = np.array([])\n",
    "\n",
    "etom_I4 = e_m(rI4,100,I4)\n",
    "print(etom_I4)\n",
    "print ('\\n')\n",
    "print (np.mean(etom_I4),np.std(etom_I4))\n",
    "print (np.mean(etom_I4)+np.std(etom_I4),np.std(etom_I4))"
   ]
  },
  {
   "cell_type": "code",
   "execution_count": 62,
   "metadata": {},
   "outputs": [
    {
     "name": "stdout",
     "output_type": "stream",
     "text": [
      "[1.35132897e+11 1.49127377e+11 1.49127377e+11 1.53751208e+11\n",
      " 1.53751208e+11 1.67187786e+11 1.61949852e+11 1.63668141e+11\n",
      " 1.52965762e+11]\n",
      "\n",
      "\n",
      "154073511961.64 9038117315.444645\n",
      "163111629277.08466 9038117315.444645\n"
     ]
    }
   ],
   "source": [
    "rI5 = np.array([6.5,5.5,4.5,3.75,3.25,2.75,2.5,2.25,2.125]) #in cm\n",
    "rI5 = rI5/100 #in m\n",
    "I5 = np.array([0.8,0.9,1.1,1.3,1.5,1.7,1.9,2.1,2.3]) #in A at 120 V\n",
    "\n",
    "rU5 = np.array([])\n",
    "U5 = np.array([])\n",
    "\n",
    "etom_I5 = e_m(rI5,100,I5)\n",
    "etom_I5i = e_m1(rI5,100,I5)\n",
    "print(etom_I5)\n",
    "\n",
    "print ('\\n')\n",
    "print (np.mean(etom_I5),np.std(etom_I5))\n",
    "print (np.mean(etom_I5)+np.std(etom_I5),np.std(etom_I5))"
   ]
  },
  {
   "cell_type": "code",
   "execution_count": 63,
   "metadata": {},
   "outputs": [],
   "source": [
    "means = np.array([np.mean(etom_I3),np.mean(etom_I4),np.mean(etom_I5)])\n",
    "stds = np.array([np.std(etom_I3),np.std(etom_I4),np.std(etom_I5)])"
   ]
  },
  {
   "cell_type": "code",
   "execution_count": 64,
   "metadata": {},
   "outputs": [],
   "source": [
    "meanmean = np.mean(means)\n",
    "stdstd = np.mean(stds)"
   ]
  },
  {
   "cell_type": "code",
   "execution_count": 65,
   "metadata": {},
   "outputs": [
    {
     "name": "stdout",
     "output_type": "stream",
     "text": [
      "165545001113.4725 12872792645.78241\n"
     ]
    }
   ],
   "source": [
    "print(meanmean,stdstd)"
   ]
  },
  {
   "cell_type": "code",
   "execution_count": 66,
   "metadata": {},
   "outputs": [
    {
     "name": "stdout",
     "output_type": "stream",
     "text": [
      "178417793759.2549\n"
     ]
    }
   ],
   "source": [
    "print(meanmean+stdstd)"
   ]
  },
  {
   "cell_type": "code",
   "execution_count": 67,
   "metadata": {},
   "outputs": [],
   "source": [
    "means1 = np.array([np.mean(etom_I3),np.mean(etom_I4)])\n",
    "stds1 = np.array([np.std(etom_I3),np.std(etom_I4)])"
   ]
  },
  {
   "cell_type": "code",
   "execution_count": 68,
   "metadata": {},
   "outputs": [],
   "source": [
    "meanmean1 = np.mean(means1)\n",
    "stdstd1 = np.mean(stds1)"
   ]
  },
  {
   "cell_type": "code",
   "execution_count": 69,
   "metadata": {},
   "outputs": [
    {
     "name": "stdout",
     "output_type": "stream",
     "text": [
      "171280745689.38873 14790130310.951292\n"
     ]
    }
   ],
   "source": [
    "print(meanmean1,stdstd1)"
   ]
  },
  {
   "cell_type": "code",
   "execution_count": 70,
   "metadata": {},
   "outputs": [
    {
     "name": "stdout",
     "output_type": "stream",
     "text": [
      "186070876000.34003\n"
     ]
    }
   ],
   "source": [
    "print(meanmean1+stdstd1)"
   ]
  },
  {
   "cell_type": "code",
   "execution_count": null,
   "metadata": {},
   "outputs": [],
   "source": []
  }
 ],
 "metadata": {
  "kernelspec": {
   "display_name": "Python 3",
   "language": "python",
   "name": "python3"
  },
  "language_info": {
   "codemirror_mode": {
    "name": "ipython",
    "version": 3
   },
   "file_extension": ".py",
   "mimetype": "text/x-python",
   "name": "python",
   "nbconvert_exporter": "python",
   "pygments_lexer": "ipython3",
   "version": "3.6.5"
  }
 },
 "nbformat": 4,
 "nbformat_minor": 2
}
